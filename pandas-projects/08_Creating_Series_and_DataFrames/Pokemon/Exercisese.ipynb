{
  "metadata": {
    "kernelspec": {
      "display_name": "Python 2",
      "language": "python",
      "name": "python2"
    },
    "language_info": {
      "codemirror_mode": {
        "name": "ipython",
        "version": 2
      },
      "file_extension": ".py",
      "mimetype": "text/x-python",
      "name": "python",
      "nbconvert_exporter": "python",
      "pygments_lexer": "ipython2",
      "version": "2.7.11"
    },
    "kaggle": {
      "accelerator": "none",
      "dataSources": [],
      "isInternetEnabled": false,
      "language": "python",
      "sourceType": "notebook",
      "isGpuEnabled": false
    },
    "colab": {
      "name": "Exercisese3d4f88260",
      "provenance": []
    }
  },
  "nbformat_minor": 0,
  "nbformat": 4,
  "cells": [
    {
      "cell_type": "markdown",
      "source": [
        "# Pokemon"
      ],
      "metadata": {
        "id": "S1kfldmobOIO"
      }
    },
    {
      "cell_type": "markdown",
      "source": [
        "### Introduction:\n",
        "\n",
        "This time you will create the data.\n",
        "\n",
        "\n",
        "\n",
        "### Step 1. Import the necessary libraries"
      ],
      "metadata": {
        "id": "NpYbkGtubOIQ"
      }
    },
    {
      "cell_type": "code",
      "source": [
        "import pandas as pd"
      ],
      "metadata": {
        "jupyter": {
          "outputs_hidden": false
        },
        "id": "GFL0djUEbOIR"
      },
      "outputs": [],
      "execution_count": 1
    },
    {
      "cell_type": "markdown",
      "source": [
        "### Step 2. Create a data dictionary that looks like the DataFrame below"
      ],
      "metadata": {
        "id": "NVYm6h_CbOIR"
      }
    },
    {
      "cell_type": "code",
      "source": [],
      "metadata": {
        "collapsed": true,
        "jupyter": {
          "outputs_hidden": true
        },
        "id": "9wIfGTcrbOIS"
      },
      "outputs": [],
      "execution_count": null
    },
    {
      "cell_type": "markdown",
      "source": [
        "### Step 3. Assign it to a variable called pokemon"
      ],
      "metadata": {
        "id": "0eKfxOpZbOIS"
      }
    },
    {
      "cell_type": "code",
      "source": [
        "pokemon_data = {\n",
        "    'name': ['Bulbasaur', 'Charmander', 'Squirtle', 'Pikachu'],\n",
        "    'type': ['Grass', 'Fire', 'Water', 'Electric'],\n",
        "    'hp': [45, 39, 44, 35],\n",
        "    'attack': [49, 52, 48, 55]\n",
        "}\n",
        "pokemon = pd.DataFrame(pokemon_data)\n",
        "\n",
        "print(pokemon)\n"
      ],
      "metadata": {
        "jupyter": {
          "outputs_hidden": false
        },
        "id": "2a2fiKkvbOIT",
        "outputId": "8b99bdc5-e862-4ba9-ac4b-431c134f4e32",
        "colab": {
          "base_uri": "https://localhost:8080/"
        }
      },
      "outputs": [
        {
          "output_type": "stream",
          "name": "stdout",
          "text": [
            "         name      type  hp  attack\n",
            "0   Bulbasaur     Grass  45      49\n",
            "1  Charmander      Fire  39      52\n",
            "2    Squirtle     Water  44      48\n",
            "3     Pikachu  Electric  35      55\n"
          ]
        }
      ],
      "execution_count": 2
    },
    {
      "cell_type": "markdown",
      "source": [
        "### Step 4. Ops...it seems the DataFrame columns are in alphabetical order. Place  the order of the columns as name, type, hp, evolution, pokedex"
      ],
      "metadata": {
        "id": "QKXu310dbOIU"
      }
    },
    {
      "cell_type": "code",
      "source": [
        "pokemon['evolution'] = [True, True, True, True]\n",
        "pokemon['pokedex'] = [1, 4, 7, 25]\n",
        "pokemon = pokemon[['name', 'type', 'hp', 'evolution', 'pokedex']]\n"
      ],
      "metadata": {
        "jupyter": {
          "outputs_hidden": false
        },
        "id": "SzaJ85-lbOIU"
      },
      "outputs": [],
      "execution_count": null
    },
    {
      "cell_type": "markdown",
      "source": [
        "### Step 5. Add another column called place, and insert what you have in mind."
      ],
      "metadata": {
        "id": "axcnmoSybOIU"
      }
    },
    {
      "cell_type": "code",
      "source": [
        "pokemon['place'] = ['Forest', 'Mountain', 'Lake', 'City']\n"
      ],
      "metadata": {
        "jupyter": {
          "outputs_hidden": false
        },
        "id": "X6XnJyApbOIV"
      },
      "outputs": [],
      "execution_count": null
    },
    {
      "cell_type": "markdown",
      "source": [
        "### Step 6. Present the type of each column"
      ],
      "metadata": {
        "id": "uN5UjS2GbOIV"
      }
    },
    {
      "cell_type": "code",
      "source": [
        "print(pokemon.dtypes)\n"
      ],
      "metadata": {
        "jupyter": {
          "outputs_hidden": false
        },
        "id": "5_ZM8QarbOIV"
      },
      "outputs": [],
      "execution_count": null
    },
    {
      "cell_type": "markdown",
      "source": [
        "### BONUS: Create your own question and answer it."
      ],
      "metadata": {
        "id": "CioWWEpabOIW"
      }
    },
    {
      "cell_type": "code",
      "source": [],
      "metadata": {
        "collapsed": true,
        "jupyter": {
          "outputs_hidden": true
        },
        "id": "a5ASK-xWbOIW"
      },
      "outputs": [],
      "execution_count": null
    }
  ]
}