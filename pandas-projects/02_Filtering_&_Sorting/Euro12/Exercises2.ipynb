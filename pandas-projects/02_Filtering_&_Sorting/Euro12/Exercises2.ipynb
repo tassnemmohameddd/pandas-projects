{
  "metadata": {
    "kernelspec": {
      "display_name": "Python [default]",
      "language": "python",
      "name": "python2"
    },
    "language_info": {
      "codemirror_mode": {
        "name": "ipython",
        "version": 2
      },
      "file_extension": ".py",
      "mimetype": "text/x-python",
      "name": "python",
      "nbconvert_exporter": "python",
      "pygments_lexer": "ipython2",
      "version": "2.7.12"
    },
    "anaconda-cloud": {},
    "kaggle": {
      "accelerator": "none",
      "dataSources": [],
      "isInternetEnabled": false,
      "language": "python",
      "sourceType": "notebook",
      "isGpuEnabled": false
    },
    "colab": {
      "name": "Exercisesff6ded9a5a",
      "provenance": []
    }
  },
  "nbformat_minor": 0,
  "nbformat": 4,
  "cells": [
    {
      "cell_type": "markdown",
      "source": [
        "# Ex2 - Filtering and Sorting Data"
      ],
      "metadata": {
        "id": "GZNy5JTTJKxe"
      }
    },
    {
      "cell_type": "markdown",
      "source": [
        "This time we are going to pull data directly from the internet.\n",
        "\n",
        "### Step 1. Import the necessary libraries"
      ],
      "metadata": {
        "id": "mNdw5fnXJKxh"
      }
    },
    {
      "cell_type": "code",
      "source": [
        "import pandas as pd"
      ],
      "metadata": {
        "jupyter": {
          "outputs_hidden": false
        },
        "id": "hAk3YzmNJKxi"
      },
      "outputs": [],
      "execution_count": 1
    },
    {
      "cell_type": "markdown",
      "source": [
        "### Step 2. Import the dataset from this [address](https://raw.githubusercontent.com/guipsamora/pandas_exercises/master/02_Filtering_%26_Sorting/Euro12/Euro_2012_stats_TEAM.csv)."
      ],
      "metadata": {
        "id": "JURN23QcJKxj"
      }
    },
    {
      "cell_type": "markdown",
      "source": [
        "### Step 3. Assign it to a variable called euro12."
      ],
      "metadata": {
        "id": "Ir_1xliVJKxj"
      }
    },
    {
      "cell_type": "code",
      "source": [
        "df = pd.read_csv('https://raw.githubusercontent.com/guipsamora/pandas_exercises/master/02_Filtering_%26_Sorting/Euro12/Euro_2012_stats_TEAM.csv')\n",
        "df.head()"
      ],
      "metadata": {
        "jupyter": {
          "outputs_hidden": false
        },
        "id": "jfG3nfinJKxk",
        "outputId": "2e351eb9-79a3-4b1e-bdc9-ff97912ba70e",
        "colab": {
          "base_uri": "https://localhost:8080/",
          "height": 325
        }
      },
      "outputs": [
        {
          "output_type": "execute_result",
          "data": {
            "text/plain": [
              "             Team  Goals  Shots on target  Shots off target Shooting Accuracy  \\\n",
              "0         Croatia      4               13                12             51.9%   \n",
              "1  Czech Republic      4               13                18             41.9%   \n",
              "2         Denmark      4               10                10             50.0%   \n",
              "3         England      5               11                18             50.0%   \n",
              "4          France      3               22                24             37.9%   \n",
              "\n",
              "  % Goals-to-shots  Total shots (inc. Blocked)  Hit Woodwork  Penalty goals  \\\n",
              "0            16.0%                          32             0              0   \n",
              "1            12.9%                          39             0              0   \n",
              "2            20.0%                          27             1              0   \n",
              "3            17.2%                          40             0              0   \n",
              "4             6.5%                          65             1              0   \n",
              "\n",
              "   Penalties not scored  ...  Saves made  Saves-to-shots ratio  Fouls Won  \\\n",
              "0                     0  ...          13                 81.3%         41   \n",
              "1                     0  ...           9                 60.1%         53   \n",
              "2                     0  ...          10                 66.7%         25   \n",
              "3                     0  ...          22                 88.1%         43   \n",
              "4                     0  ...           6                 54.6%         36   \n",
              "\n",
              "  Fouls Conceded  Offsides  Yellow Cards  Red Cards  Subs on  Subs off  \\\n",
              "0             62         2             9          0        9         9   \n",
              "1             73         8             7          0       11        11   \n",
              "2             38         8             4          0        7         7   \n",
              "3             45         6             5          0       11        11   \n",
              "4             51         5             6          0       11        11   \n",
              "\n",
              "   Players Used  \n",
              "0            16  \n",
              "1            19  \n",
              "2            15  \n",
              "3            16  \n",
              "4            19  \n",
              "\n",
              "[5 rows x 35 columns]"
            ],
            "text/html": [
              "\n",
              "  <div id=\"df-94a48e8d-8f43-411b-b1a8-3c75cc3aad1a\" class=\"colab-df-container\">\n",
              "    <div>\n",
              "<style scoped>\n",
              "    .dataframe tbody tr th:only-of-type {\n",
              "        vertical-align: middle;\n",
              "    }\n",
              "\n",
              "    .dataframe tbody tr th {\n",
              "        vertical-align: top;\n",
              "    }\n",
              "\n",
              "    .dataframe thead th {\n",
              "        text-align: right;\n",
              "    }\n",
              "</style>\n",
              "<table border=\"1\" class=\"dataframe\">\n",
              "  <thead>\n",
              "    <tr style=\"text-align: right;\">\n",
              "      <th></th>\n",
              "      <th>Team</th>\n",
              "      <th>Goals</th>\n",
              "      <th>Shots on target</th>\n",
              "      <th>Shots off target</th>\n",
              "      <th>Shooting Accuracy</th>\n",
              "      <th>% Goals-to-shots</th>\n",
              "      <th>Total shots (inc. Blocked)</th>\n",
              "      <th>Hit Woodwork</th>\n",
              "      <th>Penalty goals</th>\n",
              "      <th>Penalties not scored</th>\n",
              "      <th>...</th>\n",
              "      <th>Saves made</th>\n",
              "      <th>Saves-to-shots ratio</th>\n",
              "      <th>Fouls Won</th>\n",
              "      <th>Fouls Conceded</th>\n",
              "      <th>Offsides</th>\n",
              "      <th>Yellow Cards</th>\n",
              "      <th>Red Cards</th>\n",
              "      <th>Subs on</th>\n",
              "      <th>Subs off</th>\n",
              "      <th>Players Used</th>\n",
              "    </tr>\n",
              "  </thead>\n",
              "  <tbody>\n",
              "    <tr>\n",
              "      <th>0</th>\n",
              "      <td>Croatia</td>\n",
              "      <td>4</td>\n",
              "      <td>13</td>\n",
              "      <td>12</td>\n",
              "      <td>51.9%</td>\n",
              "      <td>16.0%</td>\n",
              "      <td>32</td>\n",
              "      <td>0</td>\n",
              "      <td>0</td>\n",
              "      <td>0</td>\n",
              "      <td>...</td>\n",
              "      <td>13</td>\n",
              "      <td>81.3%</td>\n",
              "      <td>41</td>\n",
              "      <td>62</td>\n",
              "      <td>2</td>\n",
              "      <td>9</td>\n",
              "      <td>0</td>\n",
              "      <td>9</td>\n",
              "      <td>9</td>\n",
              "      <td>16</td>\n",
              "    </tr>\n",
              "    <tr>\n",
              "      <th>1</th>\n",
              "      <td>Czech Republic</td>\n",
              "      <td>4</td>\n",
              "      <td>13</td>\n",
              "      <td>18</td>\n",
              "      <td>41.9%</td>\n",
              "      <td>12.9%</td>\n",
              "      <td>39</td>\n",
              "      <td>0</td>\n",
              "      <td>0</td>\n",
              "      <td>0</td>\n",
              "      <td>...</td>\n",
              "      <td>9</td>\n",
              "      <td>60.1%</td>\n",
              "      <td>53</td>\n",
              "      <td>73</td>\n",
              "      <td>8</td>\n",
              "      <td>7</td>\n",
              "      <td>0</td>\n",
              "      <td>11</td>\n",
              "      <td>11</td>\n",
              "      <td>19</td>\n",
              "    </tr>\n",
              "    <tr>\n",
              "      <th>2</th>\n",
              "      <td>Denmark</td>\n",
              "      <td>4</td>\n",
              "      <td>10</td>\n",
              "      <td>10</td>\n",
              "      <td>50.0%</td>\n",
              "      <td>20.0%</td>\n",
              "      <td>27</td>\n",
              "      <td>1</td>\n",
              "      <td>0</td>\n",
              "      <td>0</td>\n",
              "      <td>...</td>\n",
              "      <td>10</td>\n",
              "      <td>66.7%</td>\n",
              "      <td>25</td>\n",
              "      <td>38</td>\n",
              "      <td>8</td>\n",
              "      <td>4</td>\n",
              "      <td>0</td>\n",
              "      <td>7</td>\n",
              "      <td>7</td>\n",
              "      <td>15</td>\n",
              "    </tr>\n",
              "    <tr>\n",
              "      <th>3</th>\n",
              "      <td>England</td>\n",
              "      <td>5</td>\n",
              "      <td>11</td>\n",
              "      <td>18</td>\n",
              "      <td>50.0%</td>\n",
              "      <td>17.2%</td>\n",
              "      <td>40</td>\n",
              "      <td>0</td>\n",
              "      <td>0</td>\n",
              "      <td>0</td>\n",
              "      <td>...</td>\n",
              "      <td>22</td>\n",
              "      <td>88.1%</td>\n",
              "      <td>43</td>\n",
              "      <td>45</td>\n",
              "      <td>6</td>\n",
              "      <td>5</td>\n",
              "      <td>0</td>\n",
              "      <td>11</td>\n",
              "      <td>11</td>\n",
              "      <td>16</td>\n",
              "    </tr>\n",
              "    <tr>\n",
              "      <th>4</th>\n",
              "      <td>France</td>\n",
              "      <td>3</td>\n",
              "      <td>22</td>\n",
              "      <td>24</td>\n",
              "      <td>37.9%</td>\n",
              "      <td>6.5%</td>\n",
              "      <td>65</td>\n",
              "      <td>1</td>\n",
              "      <td>0</td>\n",
              "      <td>0</td>\n",
              "      <td>...</td>\n",
              "      <td>6</td>\n",
              "      <td>54.6%</td>\n",
              "      <td>36</td>\n",
              "      <td>51</td>\n",
              "      <td>5</td>\n",
              "      <td>6</td>\n",
              "      <td>0</td>\n",
              "      <td>11</td>\n",
              "      <td>11</td>\n",
              "      <td>19</td>\n",
              "    </tr>\n",
              "  </tbody>\n",
              "</table>\n",
              "<p>5 rows × 35 columns</p>\n",
              "</div>\n",
              "    <div class=\"colab-df-buttons\">\n",
              "\n",
              "  <div class=\"colab-df-container\">\n",
              "    <button class=\"colab-df-convert\" onclick=\"convertToInteractive('df-94a48e8d-8f43-411b-b1a8-3c75cc3aad1a')\"\n",
              "            title=\"Convert this dataframe to an interactive table.\"\n",
              "            style=\"display:none;\">\n",
              "\n",
              "  <svg xmlns=\"http://www.w3.org/2000/svg\" height=\"24px\" viewBox=\"0 -960 960 960\">\n",
              "    <path d=\"M120-120v-720h720v720H120Zm60-500h600v-160H180v160Zm220 220h160v-160H400v160Zm0 220h160v-160H400v160ZM180-400h160v-160H180v160Zm440 0h160v-160H620v160ZM180-180h160v-160H180v160Zm440 0h160v-160H620v160Z\"/>\n",
              "  </svg>\n",
              "    </button>\n",
              "\n",
              "  <style>\n",
              "    .colab-df-container {\n",
              "      display:flex;\n",
              "      gap: 12px;\n",
              "    }\n",
              "\n",
              "    .colab-df-convert {\n",
              "      background-color: #E8F0FE;\n",
              "      border: none;\n",
              "      border-radius: 50%;\n",
              "      cursor: pointer;\n",
              "      display: none;\n",
              "      fill: #1967D2;\n",
              "      height: 32px;\n",
              "      padding: 0 0 0 0;\n",
              "      width: 32px;\n",
              "    }\n",
              "\n",
              "    .colab-df-convert:hover {\n",
              "      background-color: #E2EBFA;\n",
              "      box-shadow: 0px 1px 2px rgba(60, 64, 67, 0.3), 0px 1px 3px 1px rgba(60, 64, 67, 0.15);\n",
              "      fill: #174EA6;\n",
              "    }\n",
              "\n",
              "    .colab-df-buttons div {\n",
              "      margin-bottom: 4px;\n",
              "    }\n",
              "\n",
              "    [theme=dark] .colab-df-convert {\n",
              "      background-color: #3B4455;\n",
              "      fill: #D2E3FC;\n",
              "    }\n",
              "\n",
              "    [theme=dark] .colab-df-convert:hover {\n",
              "      background-color: #434B5C;\n",
              "      box-shadow: 0px 1px 3px 1px rgba(0, 0, 0, 0.15);\n",
              "      filter: drop-shadow(0px 1px 2px rgba(0, 0, 0, 0.3));\n",
              "      fill: #FFFFFF;\n",
              "    }\n",
              "  </style>\n",
              "\n",
              "    <script>\n",
              "      const buttonEl =\n",
              "        document.querySelector('#df-94a48e8d-8f43-411b-b1a8-3c75cc3aad1a button.colab-df-convert');\n",
              "      buttonEl.style.display =\n",
              "        google.colab.kernel.accessAllowed ? 'block' : 'none';\n",
              "\n",
              "      async function convertToInteractive(key) {\n",
              "        const element = document.querySelector('#df-94a48e8d-8f43-411b-b1a8-3c75cc3aad1a');\n",
              "        const dataTable =\n",
              "          await google.colab.kernel.invokeFunction('convertToInteractive',\n",
              "                                                    [key], {});\n",
              "        if (!dataTable) return;\n",
              "\n",
              "        const docLinkHtml = 'Like what you see? Visit the ' +\n",
              "          '<a target=\"_blank\" href=https://colab.research.google.com/notebooks/data_table.ipynb>data table notebook</a>'\n",
              "          + ' to learn more about interactive tables.';\n",
              "        element.innerHTML = '';\n",
              "        dataTable['output_type'] = 'display_data';\n",
              "        await google.colab.output.renderOutput(dataTable, element);\n",
              "        const docLink = document.createElement('div');\n",
              "        docLink.innerHTML = docLinkHtml;\n",
              "        element.appendChild(docLink);\n",
              "      }\n",
              "    </script>\n",
              "  </div>\n",
              "\n",
              "\n",
              "    <div id=\"df-f9d37280-8f1f-4bbe-b966-1a9cb91072c4\">\n",
              "      <button class=\"colab-df-quickchart\" onclick=\"quickchart('df-f9d37280-8f1f-4bbe-b966-1a9cb91072c4')\"\n",
              "                title=\"Suggest charts\"\n",
              "                style=\"display:none;\">\n",
              "\n",
              "<svg xmlns=\"http://www.w3.org/2000/svg\" height=\"24px\"viewBox=\"0 0 24 24\"\n",
              "     width=\"24px\">\n",
              "    <g>\n",
              "        <path d=\"M19 3H5c-1.1 0-2 .9-2 2v14c0 1.1.9 2 2 2h14c1.1 0 2-.9 2-2V5c0-1.1-.9-2-2-2zM9 17H7v-7h2v7zm4 0h-2V7h2v10zm4 0h-2v-4h2v4z\"/>\n",
              "    </g>\n",
              "</svg>\n",
              "      </button>\n",
              "\n",
              "<style>\n",
              "  .colab-df-quickchart {\n",
              "      --bg-color: #E8F0FE;\n",
              "      --fill-color: #1967D2;\n",
              "      --hover-bg-color: #E2EBFA;\n",
              "      --hover-fill-color: #174EA6;\n",
              "      --disabled-fill-color: #AAA;\n",
              "      --disabled-bg-color: #DDD;\n",
              "  }\n",
              "\n",
              "  [theme=dark] .colab-df-quickchart {\n",
              "      --bg-color: #3B4455;\n",
              "      --fill-color: #D2E3FC;\n",
              "      --hover-bg-color: #434B5C;\n",
              "      --hover-fill-color: #FFFFFF;\n",
              "      --disabled-bg-color: #3B4455;\n",
              "      --disabled-fill-color: #666;\n",
              "  }\n",
              "\n",
              "  .colab-df-quickchart {\n",
              "    background-color: var(--bg-color);\n",
              "    border: none;\n",
              "    border-radius: 50%;\n",
              "    cursor: pointer;\n",
              "    display: none;\n",
              "    fill: var(--fill-color);\n",
              "    height: 32px;\n",
              "    padding: 0;\n",
              "    width: 32px;\n",
              "  }\n",
              "\n",
              "  .colab-df-quickchart:hover {\n",
              "    background-color: var(--hover-bg-color);\n",
              "    box-shadow: 0 1px 2px rgba(60, 64, 67, 0.3), 0 1px 3px 1px rgba(60, 64, 67, 0.15);\n",
              "    fill: var(--button-hover-fill-color);\n",
              "  }\n",
              "\n",
              "  .colab-df-quickchart-complete:disabled,\n",
              "  .colab-df-quickchart-complete:disabled:hover {\n",
              "    background-color: var(--disabled-bg-color);\n",
              "    fill: var(--disabled-fill-color);\n",
              "    box-shadow: none;\n",
              "  }\n",
              "\n",
              "  .colab-df-spinner {\n",
              "    border: 2px solid var(--fill-color);\n",
              "    border-color: transparent;\n",
              "    border-bottom-color: var(--fill-color);\n",
              "    animation:\n",
              "      spin 1s steps(1) infinite;\n",
              "  }\n",
              "\n",
              "  @keyframes spin {\n",
              "    0% {\n",
              "      border-color: transparent;\n",
              "      border-bottom-color: var(--fill-color);\n",
              "      border-left-color: var(--fill-color);\n",
              "    }\n",
              "    20% {\n",
              "      border-color: transparent;\n",
              "      border-left-color: var(--fill-color);\n",
              "      border-top-color: var(--fill-color);\n",
              "    }\n",
              "    30% {\n",
              "      border-color: transparent;\n",
              "      border-left-color: var(--fill-color);\n",
              "      border-top-color: var(--fill-color);\n",
              "      border-right-color: var(--fill-color);\n",
              "    }\n",
              "    40% {\n",
              "      border-color: transparent;\n",
              "      border-right-color: var(--fill-color);\n",
              "      border-top-color: var(--fill-color);\n",
              "    }\n",
              "    60% {\n",
              "      border-color: transparent;\n",
              "      border-right-color: var(--fill-color);\n",
              "    }\n",
              "    80% {\n",
              "      border-color: transparent;\n",
              "      border-right-color: var(--fill-color);\n",
              "      border-bottom-color: var(--fill-color);\n",
              "    }\n",
              "    90% {\n",
              "      border-color: transparent;\n",
              "      border-bottom-color: var(--fill-color);\n",
              "    }\n",
              "  }\n",
              "</style>\n",
              "\n",
              "      <script>\n",
              "        async function quickchart(key) {\n",
              "          const quickchartButtonEl =\n",
              "            document.querySelector('#' + key + ' button');\n",
              "          quickchartButtonEl.disabled = true;  // To prevent multiple clicks.\n",
              "          quickchartButtonEl.classList.add('colab-df-spinner');\n",
              "          try {\n",
              "            const charts = await google.colab.kernel.invokeFunction(\n",
              "                'suggestCharts', [key], {});\n",
              "          } catch (error) {\n",
              "            console.error('Error during call to suggestCharts:', error);\n",
              "          }\n",
              "          quickchartButtonEl.classList.remove('colab-df-spinner');\n",
              "          quickchartButtonEl.classList.add('colab-df-quickchart-complete');\n",
              "        }\n",
              "        (() => {\n",
              "          let quickchartButtonEl =\n",
              "            document.querySelector('#df-f9d37280-8f1f-4bbe-b966-1a9cb91072c4 button');\n",
              "          quickchartButtonEl.style.display =\n",
              "            google.colab.kernel.accessAllowed ? 'block' : 'none';\n",
              "        })();\n",
              "      </script>\n",
              "    </div>\n",
              "\n",
              "    </div>\n",
              "  </div>\n"
            ],
            "application/vnd.google.colaboratory.intrinsic+json": {
              "type": "dataframe",
              "variable_name": "df"
            }
          },
          "metadata": {},
          "execution_count": 2
        }
      ],
      "execution_count": 2
    },
    {
      "cell_type": "markdown",
      "source": [
        "### Step 4. Select only the Goal column."
      ],
      "metadata": {
        "id": "3f5HEX8HJKxk"
      }
    },
    {
      "cell_type": "code",
      "source": [
        "print(df['Goals'])"
      ],
      "metadata": {
        "jupyter": {
          "outputs_hidden": false
        },
        "id": "TZS9ni1FJKxk",
        "outputId": "216af538-e9a4-4f14-fef2-5d631139b6d5",
        "colab": {
          "base_uri": "https://localhost:8080/"
        }
      },
      "outputs": [
        {
          "output_type": "stream",
          "name": "stdout",
          "text": [
            "0      4\n",
            "1      4\n",
            "2      4\n",
            "3      5\n",
            "4      3\n",
            "5     10\n",
            "6      5\n",
            "7      6\n",
            "8      2\n",
            "9      2\n",
            "10     6\n",
            "11     1\n",
            "12     5\n",
            "13    12\n",
            "14     5\n",
            "15     2\n",
            "Name: Goals, dtype: int64\n"
          ]
        }
      ],
      "execution_count": 3
    },
    {
      "cell_type": "markdown",
      "source": [
        "### Step 5. How many team participated in the Euro2012?"
      ],
      "metadata": {
        "id": "ndQ8HKJBJKxl"
      }
    },
    {
      "cell_type": "code",
      "source": [
        "print(df['Team'].count())"
      ],
      "metadata": {
        "jupyter": {
          "outputs_hidden": false
        },
        "id": "Z54nwxSEJKxl",
        "outputId": "24130950-fc30-4cf1-a9c2-30f2db800ef7",
        "colab": {
          "base_uri": "https://localhost:8080/"
        }
      },
      "outputs": [
        {
          "output_type": "stream",
          "name": "stdout",
          "text": [
            "16\n"
          ]
        }
      ],
      "execution_count": 4
    },
    {
      "cell_type": "markdown",
      "source": [
        "### Step 6. What is the number of columns in the dataset?"
      ],
      "metadata": {
        "id": "ey1oVKoRJKxl"
      }
    },
    {
      "cell_type": "code",
      "source": [
        "print(len(df.columns))"
      ],
      "metadata": {
        "jupyter": {
          "outputs_hidden": false
        },
        "id": "3VjiUGACJKxm",
        "outputId": "d734f930-4671-42de-86c5-f39023705cfe",
        "colab": {
          "base_uri": "https://localhost:8080/"
        }
      },
      "outputs": [
        {
          "output_type": "stream",
          "name": "stdout",
          "text": [
            "35\n"
          ]
        }
      ],
      "execution_count": 5
    },
    {
      "cell_type": "markdown",
      "source": [
        "### Step 7. View only the columns Team, Yellow Cards and Red Cards and assign them to a dataframe called discipline"
      ],
      "metadata": {
        "id": "na2OYJ9NJKxm"
      }
    },
    {
      "cell_type": "code",
      "source": [
        "print(df[['Team', 'Yellow Cards', 'Red Cards']])"
      ],
      "metadata": {
        "jupyter": {
          "outputs_hidden": false
        },
        "id": "hZDpoctcJKxm",
        "outputId": "512f84d1-e407-40bb-bdec-84ee91e60908",
        "colab": {
          "base_uri": "https://localhost:8080/"
        }
      },
      "outputs": [
        {
          "output_type": "stream",
          "name": "stdout",
          "text": [
            "                   Team  Yellow Cards  Red Cards\n",
            "0               Croatia             9          0\n",
            "1        Czech Republic             7          0\n",
            "2               Denmark             4          0\n",
            "3               England             5          0\n",
            "4                France             6          0\n",
            "5               Germany             4          0\n",
            "6                Greece             9          1\n",
            "7                 Italy            16          0\n",
            "8           Netherlands             5          0\n",
            "9                Poland             7          1\n",
            "10             Portugal            12          0\n",
            "11  Republic of Ireland             6          1\n",
            "12               Russia             6          0\n",
            "13                Spain            11          0\n",
            "14               Sweden             7          0\n",
            "15              Ukraine             5          0\n"
          ]
        }
      ],
      "execution_count": 13
    },
    {
      "cell_type": "markdown",
      "source": [
        "### Step 8. Sort the teams by Red Cards, then to Yellow Cards"
      ],
      "metadata": {
        "id": "8GuZNbLoJKxm"
      }
    },
    {
      "cell_type": "code",
      "source": [
        "red_cards = df.sort_values(by='Red Cards')\n",
        "yellow_cards = df.sort_values(by='Yellow Cards')\n",
        "print(red_cards)\n",
        "print(yellow_cards)"
      ],
      "metadata": {
        "scrolled": true,
        "jupyter": {
          "outputs_hidden": false
        },
        "id": "ckzLWeLPJKxm",
        "outputId": "036961cf-a1de-4911-f0f9-89275320f111",
        "colab": {
          "base_uri": "https://localhost:8080/"
        }
      },
      "outputs": [
        {
          "output_type": "stream",
          "name": "stdout",
          "text": [
            "                   Team  Goals  Shots on target  Shots off target  \\\n",
            "0               Croatia      4               13                12   \n",
            "1        Czech Republic      4               13                18   \n",
            "2               Denmark      4               10                10   \n",
            "3               England      5               11                18   \n",
            "4                France      3               22                24   \n",
            "5               Germany     10               32                32   \n",
            "7                 Italy      6               34                45   \n",
            "8           Netherlands      2               12                36   \n",
            "14               Sweden      5               17                19   \n",
            "10             Portugal      6               22                42   \n",
            "13                Spain     12               42                33   \n",
            "12               Russia      5                9                31   \n",
            "15              Ukraine      2                7                26   \n",
            "6                Greece      5                8                18   \n",
            "11  Republic of Ireland      1                7                12   \n",
            "9                Poland      2               15                23   \n",
            "\n",
            "   Shooting Accuracy % Goals-to-shots  Total shots (inc. Blocked)  \\\n",
            "0              51.9%            16.0%                          32   \n",
            "1              41.9%            12.9%                          39   \n",
            "2              50.0%            20.0%                          27   \n",
            "3              50.0%            17.2%                          40   \n",
            "4              37.9%             6.5%                          65   \n",
            "5              47.8%            15.6%                          80   \n",
            "7              43.0%             7.5%                         110   \n",
            "8              25.0%             4.1%                          60   \n",
            "14             47.2%            13.8%                          39   \n",
            "10             34.3%             9.3%                          82   \n",
            "13             55.9%            16.0%                         100   \n",
            "12             22.5%            12.5%                          59   \n",
            "15             21.2%             6.0%                          38   \n",
            "6              30.7%            19.2%                          32   \n",
            "11             36.8%             5.2%                          28   \n",
            "9              39.4%             5.2%                          48   \n",
            "\n",
            "    Hit Woodwork  Penalty goals  Penalties not scored  ...  Saves made  \\\n",
            "0              0              0                     0  ...          13   \n",
            "1              0              0                     0  ...           9   \n",
            "2              1              0                     0  ...          10   \n",
            "3              0              0                     0  ...          22   \n",
            "4              1              0                     0  ...           6   \n",
            "5              2              1                     0  ...          10   \n",
            "7              2              0                     0  ...          20   \n",
            "8              2              0                     0  ...          12   \n",
            "14             3              0                     0  ...           8   \n",
            "10             6              0                     0  ...          10   \n",
            "13             0              1                     0  ...          15   \n",
            "12             2              0                     0  ...          10   \n",
            "15             0              0                     0  ...          13   \n",
            "6              1              1                     1  ...          13   \n",
            "11             0              0                     0  ...          17   \n",
            "9              0              0                     0  ...           6   \n",
            "\n",
            "    Saves-to-shots ratio  Fouls Won Fouls Conceded  Offsides  Yellow Cards  \\\n",
            "0                  81.3%         41             62         2             9   \n",
            "1                  60.1%         53             73         8             7   \n",
            "2                  66.7%         25             38         8             4   \n",
            "3                  88.1%         43             45         6             5   \n",
            "4                  54.6%         36             51         5             6   \n",
            "5                  62.6%         63             49        12             4   \n",
            "7                  74.1%        101             89        16            16   \n",
            "8                  70.6%         35             30         3             5   \n",
            "14                 61.6%         35             51         7             7   \n",
            "10                 71.5%         73             90        10            12   \n",
            "13                 93.8%        102             83        19            11   \n",
            "12                 77.0%         34             43         4             6   \n",
            "15                 76.5%         48             31         4             5   \n",
            "6                  65.1%         67             48        12             9   \n",
            "11                 65.4%         43             51        11             6   \n",
            "9                  66.7%         48             56         3             7   \n",
            "\n",
            "    Red Cards  Subs on  Subs off  Players Used  \n",
            "0           0        9         9            16  \n",
            "1           0       11        11            19  \n",
            "2           0        7         7            15  \n",
            "3           0       11        11            16  \n",
            "4           0       11        11            19  \n",
            "5           0       15        15            17  \n",
            "7           0       18        18            19  \n",
            "8           0        7         7            15  \n",
            "14          0        9         9            18  \n",
            "10          0       14        14            16  \n",
            "13          0       17        17            18  \n",
            "12          0        7         7            16  \n",
            "15          0        9         9            18  \n",
            "6           1       12        12            20  \n",
            "11          1       10        10            17  \n",
            "9           1        7         7            17  \n",
            "\n",
            "[16 rows x 35 columns]\n",
            "                   Team  Goals  Shots on target  Shots off target  \\\n",
            "2               Denmark      4               10                10   \n",
            "5               Germany     10               32                32   \n",
            "3               England      5               11                18   \n",
            "8           Netherlands      2               12                36   \n",
            "15              Ukraine      2                7                26   \n",
            "12               Russia      5                9                31   \n",
            "11  Republic of Ireland      1                7                12   \n",
            "4                France      3               22                24   \n",
            "14               Sweden      5               17                19   \n",
            "9                Poland      2               15                23   \n",
            "1        Czech Republic      4               13                18   \n",
            "0               Croatia      4               13                12   \n",
            "6                Greece      5                8                18   \n",
            "13                Spain     12               42                33   \n",
            "10             Portugal      6               22                42   \n",
            "7                 Italy      6               34                45   \n",
            "\n",
            "   Shooting Accuracy % Goals-to-shots  Total shots (inc. Blocked)  \\\n",
            "2              50.0%            20.0%                          27   \n",
            "5              47.8%            15.6%                          80   \n",
            "3              50.0%            17.2%                          40   \n",
            "8              25.0%             4.1%                          60   \n",
            "15             21.2%             6.0%                          38   \n",
            "12             22.5%            12.5%                          59   \n",
            "11             36.8%             5.2%                          28   \n",
            "4              37.9%             6.5%                          65   \n",
            "14             47.2%            13.8%                          39   \n",
            "9              39.4%             5.2%                          48   \n",
            "1              41.9%            12.9%                          39   \n",
            "0              51.9%            16.0%                          32   \n",
            "6              30.7%            19.2%                          32   \n",
            "13             55.9%            16.0%                         100   \n",
            "10             34.3%             9.3%                          82   \n",
            "7              43.0%             7.5%                         110   \n",
            "\n",
            "    Hit Woodwork  Penalty goals  Penalties not scored  ...  Saves made  \\\n",
            "2              1              0                     0  ...          10   \n",
            "5              2              1                     0  ...          10   \n",
            "3              0              0                     0  ...          22   \n",
            "8              2              0                     0  ...          12   \n",
            "15             0              0                     0  ...          13   \n",
            "12             2              0                     0  ...          10   \n",
            "11             0              0                     0  ...          17   \n",
            "4              1              0                     0  ...           6   \n",
            "14             3              0                     0  ...           8   \n",
            "9              0              0                     0  ...           6   \n",
            "1              0              0                     0  ...           9   \n",
            "0              0              0                     0  ...          13   \n",
            "6              1              1                     1  ...          13   \n",
            "13             0              1                     0  ...          15   \n",
            "10             6              0                     0  ...          10   \n",
            "7              2              0                     0  ...          20   \n",
            "\n",
            "    Saves-to-shots ratio  Fouls Won Fouls Conceded  Offsides  Yellow Cards  \\\n",
            "2                  66.7%         25             38         8             4   \n",
            "5                  62.6%         63             49        12             4   \n",
            "3                  88.1%         43             45         6             5   \n",
            "8                  70.6%         35             30         3             5   \n",
            "15                 76.5%         48             31         4             5   \n",
            "12                 77.0%         34             43         4             6   \n",
            "11                 65.4%         43             51        11             6   \n",
            "4                  54.6%         36             51         5             6   \n",
            "14                 61.6%         35             51         7             7   \n",
            "9                  66.7%         48             56         3             7   \n",
            "1                  60.1%         53             73         8             7   \n",
            "0                  81.3%         41             62         2             9   \n",
            "6                  65.1%         67             48        12             9   \n",
            "13                 93.8%        102             83        19            11   \n",
            "10                 71.5%         73             90        10            12   \n",
            "7                  74.1%        101             89        16            16   \n",
            "\n",
            "    Red Cards  Subs on  Subs off  Players Used  \n",
            "2           0        7         7            15  \n",
            "5           0       15        15            17  \n",
            "3           0       11        11            16  \n",
            "8           0        7         7            15  \n",
            "15          0        9         9            18  \n",
            "12          0        7         7            16  \n",
            "11          1       10        10            17  \n",
            "4           0       11        11            19  \n",
            "14          0        9         9            18  \n",
            "9           1        7         7            17  \n",
            "1           0       11        11            19  \n",
            "0           0        9         9            16  \n",
            "6           1       12        12            20  \n",
            "13          0       17        17            18  \n",
            "10          0       14        14            16  \n",
            "7           0       18        18            19  \n",
            "\n",
            "[16 rows x 35 columns]\n"
          ]
        }
      ],
      "execution_count": 12
    },
    {
      "cell_type": "markdown",
      "source": [
        "### Step 9. Calculate the mean Yellow Cards given per Team"
      ],
      "metadata": {
        "id": "mV4q4-NIJKxn"
      }
    },
    {
      "cell_type": "code",
      "source": [
        "print(df['Yellow Cards'].mean())"
      ],
      "metadata": {
        "jupyter": {
          "outputs_hidden": false
        },
        "id": "YVfLbtVhJKxn",
        "outputId": "1d970ede-15d4-46cc-db53-a68326451e39",
        "colab": {
          "base_uri": "https://localhost:8080/"
        }
      },
      "outputs": [
        {
          "output_type": "stream",
          "name": "stdout",
          "text": [
            "7.4375\n"
          ]
        }
      ],
      "execution_count": 11
    },
    {
      "cell_type": "markdown",
      "source": [
        "### Step 10. Filter teams that scored more than 6 goals"
      ],
      "metadata": {
        "id": "uytu2GvjJKxn"
      }
    },
    {
      "cell_type": "code",
      "source": [
        "print(df[df['Goals'] > 6])"
      ],
      "metadata": {
        "jupyter": {
          "outputs_hidden": false
        },
        "id": "ZQiG-vVzJKxn",
        "outputId": "9eb4b21b-3bf3-4daf-db3a-013c6a6e5ced",
        "colab": {
          "base_uri": "https://localhost:8080/"
        }
      },
      "outputs": [
        {
          "output_type": "stream",
          "name": "stdout",
          "text": [
            "       Team  Goals  Shots on target  Shots off target Shooting Accuracy  \\\n",
            "5   Germany     10               32                32             47.8%   \n",
            "13    Spain     12               42                33             55.9%   \n",
            "\n",
            "   % Goals-to-shots  Total shots (inc. Blocked)  Hit Woodwork  Penalty goals  \\\n",
            "5             15.6%                          80             2              1   \n",
            "13            16.0%                         100             0              1   \n",
            "\n",
            "    Penalties not scored  ...  Saves made  Saves-to-shots ratio  Fouls Won  \\\n",
            "5                      0  ...          10                 62.6%         63   \n",
            "13                     0  ...          15                 93.8%        102   \n",
            "\n",
            "   Fouls Conceded  Offsides  Yellow Cards  Red Cards  Subs on  Subs off  \\\n",
            "5              49        12             4          0       15        15   \n",
            "13             83        19            11          0       17        17   \n",
            "\n",
            "    Players Used  \n",
            "5             17  \n",
            "13            18  \n",
            "\n",
            "[2 rows x 35 columns]\n"
          ]
        }
      ],
      "execution_count": 10
    },
    {
      "cell_type": "markdown",
      "source": [
        "### Step 11. Select the teams that start with G"
      ],
      "metadata": {
        "id": "Hs-JuVaVJKxn"
      }
    },
    {
      "cell_type": "code",
      "source": [
        "print(df[df['Team'].str.startswith('G')])"
      ],
      "metadata": {
        "jupyter": {
          "outputs_hidden": false
        },
        "id": "E_owR5tzJKxn",
        "outputId": "066cca63-c891-4430-b5dc-cc602685f7a2",
        "colab": {
          "base_uri": "https://localhost:8080/"
        }
      },
      "outputs": [
        {
          "output_type": "stream",
          "name": "stdout",
          "text": [
            "      Team  Goals  Shots on target  Shots off target Shooting Accuracy  \\\n",
            "5  Germany     10               32                32             47.8%   \n",
            "6   Greece      5                8                18             30.7%   \n",
            "\n",
            "  % Goals-to-shots  Total shots (inc. Blocked)  Hit Woodwork  Penalty goals  \\\n",
            "5            15.6%                          80             2              1   \n",
            "6            19.2%                          32             1              1   \n",
            "\n",
            "   Penalties not scored  ...  Saves made  Saves-to-shots ratio  Fouls Won  \\\n",
            "5                     0  ...          10                 62.6%         63   \n",
            "6                     1  ...          13                 65.1%         67   \n",
            "\n",
            "  Fouls Conceded  Offsides  Yellow Cards  Red Cards  Subs on  Subs off  \\\n",
            "5             49        12             4          0       15        15   \n",
            "6             48        12             9          1       12        12   \n",
            "\n",
            "   Players Used  \n",
            "5            17  \n",
            "6            20  \n",
            "\n",
            "[2 rows x 35 columns]\n"
          ]
        }
      ],
      "execution_count": 9
    },
    {
      "cell_type": "markdown",
      "source": [
        "### Step 12. Select the first 7 columns"
      ],
      "metadata": {
        "id": "PxwhOnC8JKxn"
      }
    },
    {
      "cell_type": "code",
      "source": [
        "print(df.iloc[:, :7])"
      ],
      "metadata": {
        "jupyter": {
          "outputs_hidden": false
        },
        "id": "3nf19ggIJKxo",
        "outputId": "aba651c1-f534-4c46-9503-e05472f68f65",
        "colab": {
          "base_uri": "https://localhost:8080/"
        }
      },
      "outputs": [
        {
          "output_type": "stream",
          "name": "stdout",
          "text": [
            "                   Team  Goals  Shots on target  Shots off target  \\\n",
            "0               Croatia      4               13                12   \n",
            "1        Czech Republic      4               13                18   \n",
            "2               Denmark      4               10                10   \n",
            "3               England      5               11                18   \n",
            "4                France      3               22                24   \n",
            "5               Germany     10               32                32   \n",
            "6                Greece      5                8                18   \n",
            "7                 Italy      6               34                45   \n",
            "8           Netherlands      2               12                36   \n",
            "9                Poland      2               15                23   \n",
            "10             Portugal      6               22                42   \n",
            "11  Republic of Ireland      1                7                12   \n",
            "12               Russia      5                9                31   \n",
            "13                Spain     12               42                33   \n",
            "14               Sweden      5               17                19   \n",
            "15              Ukraine      2                7                26   \n",
            "\n",
            "   Shooting Accuracy % Goals-to-shots  Total shots (inc. Blocked)  \n",
            "0              51.9%            16.0%                          32  \n",
            "1              41.9%            12.9%                          39  \n",
            "2              50.0%            20.0%                          27  \n",
            "3              50.0%            17.2%                          40  \n",
            "4              37.9%             6.5%                          65  \n",
            "5              47.8%            15.6%                          80  \n",
            "6              30.7%            19.2%                          32  \n",
            "7              43.0%             7.5%                         110  \n",
            "8              25.0%             4.1%                          60  \n",
            "9              39.4%             5.2%                          48  \n",
            "10             34.3%             9.3%                          82  \n",
            "11             36.8%             5.2%                          28  \n",
            "12             22.5%            12.5%                          59  \n",
            "13             55.9%            16.0%                         100  \n",
            "14             47.2%            13.8%                          39  \n",
            "15             21.2%             6.0%                          38  \n"
          ]
        }
      ],
      "execution_count": 8
    },
    {
      "cell_type": "markdown",
      "source": [
        "### Step 13. Select all columns except the last 3."
      ],
      "metadata": {
        "id": "Tc7N5N4PJKxo"
      }
    },
    {
      "cell_type": "code",
      "source": [
        "print(df.iloc[:, :-3])"
      ],
      "metadata": {
        "jupyter": {
          "outputs_hidden": false
        },
        "id": "f0pK8QPkJKxo",
        "outputId": "85585c47-8bff-4154-a1f9-3a1a468cd13f",
        "colab": {
          "base_uri": "https://localhost:8080/"
        }
      },
      "outputs": [
        {
          "output_type": "stream",
          "name": "stdout",
          "text": [
            "                   Team  Goals  Shots on target  Shots off target  \\\n",
            "0               Croatia      4               13                12   \n",
            "1        Czech Republic      4               13                18   \n",
            "2               Denmark      4               10                10   \n",
            "3               England      5               11                18   \n",
            "4                France      3               22                24   \n",
            "5               Germany     10               32                32   \n",
            "6                Greece      5                8                18   \n",
            "7                 Italy      6               34                45   \n",
            "8           Netherlands      2               12                36   \n",
            "9                Poland      2               15                23   \n",
            "10             Portugal      6               22                42   \n",
            "11  Republic of Ireland      1                7                12   \n",
            "12               Russia      5                9                31   \n",
            "13                Spain     12               42                33   \n",
            "14               Sweden      5               17                19   \n",
            "15              Ukraine      2                7                26   \n",
            "\n",
            "   Shooting Accuracy % Goals-to-shots  Total shots (inc. Blocked)  \\\n",
            "0              51.9%            16.0%                          32   \n",
            "1              41.9%            12.9%                          39   \n",
            "2              50.0%            20.0%                          27   \n",
            "3              50.0%            17.2%                          40   \n",
            "4              37.9%             6.5%                          65   \n",
            "5              47.8%            15.6%                          80   \n",
            "6              30.7%            19.2%                          32   \n",
            "7              43.0%             7.5%                         110   \n",
            "8              25.0%             4.1%                          60   \n",
            "9              39.4%             5.2%                          48   \n",
            "10             34.3%             9.3%                          82   \n",
            "11             36.8%             5.2%                          28   \n",
            "12             22.5%            12.5%                          59   \n",
            "13             55.9%            16.0%                         100   \n",
            "14             47.2%            13.8%                          39   \n",
            "15             21.2%             6.0%                          38   \n",
            "\n",
            "    Hit Woodwork  Penalty goals  Penalties not scored  ...  Clean Sheets  \\\n",
            "0              0              0                     0  ...             0   \n",
            "1              0              0                     0  ...             1   \n",
            "2              1              0                     0  ...             1   \n",
            "3              0              0                     0  ...             2   \n",
            "4              1              0                     0  ...             1   \n",
            "5              2              1                     0  ...             1   \n",
            "6              1              1                     1  ...             1   \n",
            "7              2              0                     0  ...             2   \n",
            "8              2              0                     0  ...             0   \n",
            "9              0              0                     0  ...             0   \n",
            "10             6              0                     0  ...             2   \n",
            "11             0              0                     0  ...             0   \n",
            "12             2              0                     0  ...             0   \n",
            "13             0              1                     0  ...             5   \n",
            "14             3              0                     0  ...             1   \n",
            "15             0              0                     0  ...             0   \n",
            "\n",
            "    Blocks  Goals conceded Saves made  Saves-to-shots ratio  Fouls Won  \\\n",
            "0       10               3         13                 81.3%         41   \n",
            "1       10               6          9                 60.1%         53   \n",
            "2       10               5         10                 66.7%         25   \n",
            "3       29               3         22                 88.1%         43   \n",
            "4        7               5          6                 54.6%         36   \n",
            "5       11               6         10                 62.6%         63   \n",
            "6       23               7         13                 65.1%         67   \n",
            "7       18               7         20                 74.1%        101   \n",
            "8        9               5         12                 70.6%         35   \n",
            "9        8               3          6                 66.7%         48   \n",
            "10      11               4         10                 71.5%         73   \n",
            "11      23               9         17                 65.4%         43   \n",
            "12       8               3         10                 77.0%         34   \n",
            "13       8               1         15                 93.8%        102   \n",
            "14      12               5          8                 61.6%         35   \n",
            "15       4               4         13                 76.5%         48   \n",
            "\n",
            "    Fouls Conceded  Offsides  Yellow Cards  Red Cards  \n",
            "0               62         2             9          0  \n",
            "1               73         8             7          0  \n",
            "2               38         8             4          0  \n",
            "3               45         6             5          0  \n",
            "4               51         5             6          0  \n",
            "5               49        12             4          0  \n",
            "6               48        12             9          1  \n",
            "7               89        16            16          0  \n",
            "8               30         3             5          0  \n",
            "9               56         3             7          1  \n",
            "10              90        10            12          0  \n",
            "11              51        11             6          1  \n",
            "12              43         4             6          0  \n",
            "13              83        19            11          0  \n",
            "14              51         7             7          0  \n",
            "15              31         4             5          0  \n",
            "\n",
            "[16 rows x 32 columns]\n"
          ]
        }
      ],
      "execution_count": 7
    },
    {
      "cell_type": "markdown",
      "source": [
        "### Step 14. Present only the Shooting Accuracy from England, Italy and Russia"
      ],
      "metadata": {
        "id": "cv4zJ7X4JKxo"
      }
    },
    {
      "cell_type": "code",
      "source": [
        "england = df[df['Team'] == 'England']\n",
        "italy = df[df['Team'] == 'Italy']\n",
        "russia = df[df['Team'] == 'Russia']\n",
        "print(england['Shooting Accuracy'])"
      ],
      "metadata": {
        "jupyter": {
          "outputs_hidden": false
        },
        "id": "t2tW4hk6JKxo",
        "outputId": "dd4af38b-21ab-4623-d0cf-c262f35fb88e",
        "colab": {
          "base_uri": "https://localhost:8080/"
        }
      },
      "outputs": [
        {
          "output_type": "stream",
          "name": "stdout",
          "text": [
            "3    50.0%\n",
            "Name: Shooting Accuracy, dtype: object\n"
          ]
        }
      ],
      "execution_count": 6
    }
  ]
}