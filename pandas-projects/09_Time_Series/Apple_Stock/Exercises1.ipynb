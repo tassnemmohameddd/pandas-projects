{
  "metadata": {
    "kernelspec": {
      "display_name": "Python [default]",
      "language": "python",
      "name": "python2"
    },
    "language_info": {
      "codemirror_mode": {
        "name": "ipython",
        "version": 2
      },
      "file_extension": ".py",
      "mimetype": "text/x-python",
      "name": "python",
      "nbconvert_exporter": "python",
      "pygments_lexer": "ipython2",
      "version": "2.7.12"
    },
    "anaconda-cloud": {},
    "kaggle": {
      "accelerator": "none",
      "dataSources": [],
      "isInternetEnabled": false,
      "language": "python",
      "sourceType": "notebook",
      "isGpuEnabled": false
    },
    "colab": {
      "name": "Exercises6bfe908319",
      "provenance": []
    }
  },
  "nbformat_minor": 0,
  "nbformat": 4,
  "cells": [
    {
      "cell_type": "markdown",
      "source": [
        "# Apple Stock"
      ],
      "metadata": {
        "id": "1-Tf5SvsY7z2"
      }
    },
    {
      "cell_type": "markdown",
      "source": [
        "### Introduction:\n",
        "\n",
        "We are going to use Apple's stock price.\n",
        "\n",
        "\n",
        "### Step 1. Import the necessary libraries"
      ],
      "metadata": {
        "id": "uC_VWUqdY7z4"
      }
    },
    {
      "cell_type": "code",
      "source": [
        "import pandas as pd\n",
        "import numpy as np\n",
        "import matplotlib.pyplot as plt"
      ],
      "metadata": {
        "jupyter": {
          "outputs_hidden": false
        },
        "id": "gMuzA118Y7z6"
      },
      "outputs": [],
      "execution_count": null
    },
    {
      "cell_type": "markdown",
      "source": [
        "### Step 2. Import the dataset from this [address](https://raw.githubusercontent.com/guipsamora/pandas_exercises/master/09_Time_Series/Apple_Stock/appl_1980_2014.csv)"
      ],
      "metadata": {
        "id": "rCsk51FnY7z7"
      }
    },
    {
      "cell_type": "code",
      "source": [
        "url = 'https://raw.githubusercontent.com/guipsamora/pandas_exercises/master/09_Time_Series/Apple_Stock/appl_1980_2014.csv'\n",
        "apple = pd.read_csv(url)\n",
        "apple.head()"
      ],
      "metadata": {
        "collapsed": true,
        "jupyter": {
          "outputs_hidden": true
        },
        "id": "M0fEhEq2Y7z8"
      },
      "outputs": [],
      "execution_count": null
    },
    {
      "cell_type": "markdown",
      "source": [
        "### Step 3. Assign it to a variable apple"
      ],
      "metadata": {
        "id": "H_fBGDpNY7z9"
      }
    },
    {
      "cell_type": "code",
      "source": [
        "url = 'https://raw.githubusercontent.com/guipsamora/pandas_exercises/master/09_Time_Series/Apple_Stock/appl_1980_2014.csv'\n",
        "apple = pd.read_csv(url)\n",
        "apple.head()"
      ],
      "metadata": {
        "jupyter": {
          "outputs_hidden": false
        },
        "id": "N64iRXVdY7z-"
      },
      "outputs": [],
      "execution_count": null
    },
    {
      "cell_type": "markdown",
      "source": [
        "### Step 4.  Check out the type of the columns"
      ],
      "metadata": {
        "id": "8raf43_RY7z_"
      }
    },
    {
      "cell_type": "code",
      "source": [
        "apple.dtypes"
      ],
      "metadata": {
        "jupyter": {
          "outputs_hidden": false
        },
        "id": "JZe0SUeXY70A"
      },
      "outputs": [],
      "execution_count": null
    },
    {
      "cell_type": "markdown",
      "source": [
        "### Step 5. Transform the Date column as a datetime type"
      ],
      "metadata": {
        "id": "A1TvvYelY70B"
      }
    },
    {
      "cell_type": "code",
      "source": [
        "apple.Date = pd.to_datetime(apple.Date)\n",
        "\n",
        "apple['Date'].head()"
      ],
      "metadata": {
        "jupyter": {
          "outputs_hidden": false
        },
        "id": "1xYW_nJcY70B"
      },
      "outputs": [],
      "execution_count": null
    },
    {
      "cell_type": "markdown",
      "source": [
        "### Step 6.  Set the date as the index"
      ],
      "metadata": {
        "id": "Tz2kU0omY70C"
      }
    },
    {
      "cell_type": "code",
      "source": [
        "apple = apple.set_index('Date')\n",
        "\n",
        "apple.head()"
      ],
      "metadata": {
        "jupyter": {
          "outputs_hidden": false
        },
        "id": "cdfPkdcnY70D"
      },
      "outputs": [],
      "execution_count": null
    },
    {
      "cell_type": "markdown",
      "source": [
        "### Step 7.  Is there any duplicate dates?"
      ],
      "metadata": {
        "id": "Xdi8M2pQY70D"
      }
    },
    {
      "cell_type": "code",
      "source": [
        "apple.index.is_unique"
      ],
      "metadata": {
        "jupyter": {
          "outputs_hidden": false
        },
        "id": "XlmVIroPY70D"
      },
      "outputs": [],
      "execution_count": null
    },
    {
      "cell_type": "markdown",
      "source": [
        "### Step 8.  Ops...it seems the index is from the most recent date. Make the first entry the oldest date."
      ],
      "metadata": {
        "id": "nHBq2CTsY70E"
      }
    },
    {
      "cell_type": "code",
      "source": [
        "apple.sort_index(ascending = True).head()"
      ],
      "metadata": {
        "jupyter": {
          "outputs_hidden": false
        },
        "id": "H5d21o6rY70E"
      },
      "outputs": [],
      "execution_count": null
    },
    {
      "cell_type": "markdown",
      "source": [
        "### Step 9. Get the last business day of each month"
      ],
      "metadata": {
        "id": "Q9vXLxdkY70F"
      }
    },
    {
      "cell_type": "code",
      "source": [
        "apple_month = apple.resample('BM').mean()\n",
        "\n",
        "apple_month.head()"
      ],
      "metadata": {
        "jupyter": {
          "outputs_hidden": false
        },
        "id": "u6XJchEVY70F"
      },
      "outputs": [],
      "execution_count": null
    },
    {
      "cell_type": "markdown",
      "source": [
        "### Step 10.  What is the difference in days between the first day and the oldest"
      ],
      "metadata": {
        "id": "SWFzWNxTY70G"
      }
    },
    {
      "cell_type": "code",
      "source": [
        "(apple.index.max() - apple.index.min()).days"
      ],
      "metadata": {
        "jupyter": {
          "outputs_hidden": false
        },
        "id": "4p-DkhOFY70G"
      },
      "outputs": [],
      "execution_count": null
    },
    {
      "cell_type": "markdown",
      "source": [
        "### Step 11.  How many months in the data we have?"
      ],
      "metadata": {
        "id": "h54w3COgY70H"
      }
    },
    {
      "cell_type": "code",
      "source": [
        "apple_months = apple.resample('BM').mean()\n",
        "\n",
        "len(apple_months.index)"
      ],
      "metadata": {
        "jupyter": {
          "outputs_hidden": false
        },
        "id": "cRRqgG7PY70H"
      },
      "outputs": [],
      "execution_count": null
    },
    {
      "cell_type": "markdown",
      "source": [
        "### Step 12. Plot the 'Adj Close' value. Set the size of the figure to 13.5 x 9 inches"
      ],
      "metadata": {
        "id": "Kmh6z2b0Y70H"
      }
    },
    {
      "cell_type": "code",
      "source": [
        "appl_open = apple['Adj Close'].plot(title = \"Apple Stock\")\n",
        "fig = appl_open.get_figure()\n",
        "fig.set_size_inches(13.5, 9)"
      ],
      "metadata": {
        "jupyter": {
          "outputs_hidden": false
        },
        "id": "V8Uul9TpY70I"
      },
      "outputs": [],
      "execution_count": null
    },
    {
      "cell_type": "markdown",
      "source": [
        "### BONUS: Create your own question and answer it."
      ],
      "metadata": {
        "id": "XAQGO8MoY70I"
      }
    },
    {
      "cell_type": "code",
      "source": [],
      "metadata": {
        "collapsed": true,
        "jupyter": {
          "outputs_hidden": true
        },
        "id": "T1HpVG11Y70I"
      },
      "outputs": [],
      "execution_count": null
    }
  ]
}