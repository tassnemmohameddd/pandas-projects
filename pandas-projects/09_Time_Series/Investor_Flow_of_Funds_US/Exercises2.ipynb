{
  "cells": [
    {
      "cell_type": "markdown",
      "metadata": {
        "id": "UwKz1Z8OaX27"
      },
      "source": [
        "# Investor - Flow of Funds - US"
      ]
    },
    {
      "cell_type": "markdown",
      "metadata": {
        "id": "wqpP7OwaaX2-"
      },
      "source": [
        "### Introduction:\n",
        "\n",
        "Special thanks to: https://github.com/rgrp for sharing the dataset.\n",
        "\n",
        "### Step 1. Import the necessary libraries"
      ]
    },
    {
      "cell_type": "code",
      "execution_count": null,
      "metadata": {
        "id": "QaoV7z91aX2_"
      },
      "outputs": [],
      "source": [
        "import pandas as pd"
      ]
    },
    {
      "cell_type": "markdown",
      "metadata": {
        "id": "HJ2yx48aaX3A"
      },
      "source": [
        "### Step 2. Import the dataset from this [address](https://raw.githubusercontent.com/datasets/investor-flow-of-funds-us/master/data/weekly.csv)."
      ]
    },
    {
      "cell_type": "markdown",
      "metadata": {
        "id": "AK84ba_7aX3B"
      },
      "source": [
        "### Step 3. Assign it to a variable called"
      ]
    },
    {
      "cell_type": "code",
      "execution_count": null,
      "metadata": {
        "id": "Jlxie5CFaX3C"
      },
      "outputs": [],
      "source": [
        "url = 'https://raw.githubusercontent.com/datasets/investor-flow-of-funds-us/master/data/weekly.csv'\n",
        "df = pd.read_csv(url)\n",
        "df.head()"
      ]
    },
    {
      "cell_type": "markdown",
      "metadata": {
        "id": "1HaXp-iWaX3C"
      },
      "source": [
        "### Step 4.  What is the frequency of the dataset?"
      ]
    },
    {
      "cell_type": "code",
      "execution_count": null,
      "metadata": {
        "id": "vvVVdL0EaX3D"
      },
      "outputs": [],
      "source": []
    },
    {
      "cell_type": "markdown",
      "metadata": {
        "id": "H0OZ2BiUaX3D"
      },
      "source": [
        "### Step 5. Set the column Date as the index."
      ]
    },
    {
      "cell_type": "code",
      "execution_count": null,
      "metadata": {
        "id": "5BIQE0_xaX3E"
      },
      "outputs": [],
      "source": [
        "df = df.set_index('Date')\n",
        "df.head()"
      ]
    },
    {
      "cell_type": "markdown",
      "metadata": {
        "id": "6oUqpI6-aX3F"
      },
      "source": [
        "### Step 6. What is the type of the index?"
      ]
    },
    {
      "cell_type": "code",
      "execution_count": null,
      "metadata": {
        "id": "pKe1fh6QaX3F"
      },
      "outputs": [],
      "source": [
        "df.index"
      ]
    },
    {
      "cell_type": "markdown",
      "metadata": {
        "id": "frvjerkkaX3G"
      },
      "source": [
        "### Step 7. Set the index to a DatetimeIndex type"
      ]
    },
    {
      "cell_type": "code",
      "execution_count": null,
      "metadata": {
        "id": "Q31PYP9yaX3G"
      },
      "outputs": [],
      "source": [
        "df.index = pd.to_datetime(df.index)\n",
        "type(df.index)"
      ]
    },
    {
      "cell_type": "markdown",
      "metadata": {
        "id": "gy7cFgCkaX3G"
      },
      "source": [
        "### Step 8.  Change the frequency to monthly, sum the values and assign it to monthly."
      ]
    },
    {
      "cell_type": "code",
      "execution_count": null,
      "metadata": {
        "id": "ZKaEK-I0aX3H"
      },
      "outputs": [],
      "source": [
        "monthly = df.resample('M').sum()\n",
        "monthly"
      ]
    },
    {
      "cell_type": "markdown",
      "metadata": {
        "id": "UB-8vYzjaX3H"
      },
      "source": [
        "### Step 9. You will notice that it filled the dataFrame with months that don't have any data with NaN. Let's drop these rows."
      ]
    },
    {
      "cell_type": "code",
      "execution_count": null,
      "metadata": {
        "id": "KUqyoWIuaX3I"
      },
      "outputs": [],
      "source": [
        "monthly = monthly.dropna()\n",
        "monthly"
      ]
    },
    {
      "cell_type": "markdown",
      "metadata": {
        "id": "Xyo80-JNaX3I"
      },
      "source": [
        "### Step 10. Good, now we have the monthly data. Now change the frequency to year."
      ]
    },
    {
      "cell_type": "code",
      "execution_count": null,
      "metadata": {
        "id": "Vo2rBkCvaX3I"
      },
      "outputs": [],
      "source": [
        "year = monthly.resample('AS-JAN').sum()\n",
        "year"
      ]
    },
    {
      "cell_type": "markdown",
      "metadata": {
        "id": "reEW1mmiaX3J"
      },
      "source": [
        "### BONUS: Create your own question and answer it."
      ]
    },
    {
      "cell_type": "code",
      "execution_count": null,
      "metadata": {
        "collapsed": true,
        "id": "2uvI5DrhaX3J"
      },
      "outputs": [],
      "source": []
    }
  ],
  "metadata": {
    "kernelspec": {
      "display_name": "Python 2",
      "language": "python",
      "name": "python2"
    },
    "language_info": {
      "codemirror_mode": {
        "name": "ipython",
        "version": 2
      },
      "file_extension": ".py",
      "mimetype": "text/x-python",
      "name": "python",
      "nbconvert_exporter": "python",
      "pygments_lexer": "ipython2",
      "version": "2.7.11"
    },
    "colab": {
      "name": "Exercisesb62b5ff9cb",
      "provenance": []
    }
  },
  "nbformat": 4,
  "nbformat_minor": 0
}