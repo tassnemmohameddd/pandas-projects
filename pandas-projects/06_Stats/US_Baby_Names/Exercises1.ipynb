{
  "metadata": {
    "kernelspec": {
      "display_name": "Python [default]",
      "language": "python",
      "name": "python2"
    },
    "language_info": {
      "codemirror_mode": {
        "name": "ipython",
        "version": 2
      },
      "file_extension": ".py",
      "mimetype": "text/x-python",
      "name": "python",
      "nbconvert_exporter": "python",
      "pygments_lexer": "ipython2",
      "version": "2.7.11"
    },
    "anaconda-cloud": {},
    "kaggle": {
      "accelerator": "none",
      "dataSources": [],
      "isInternetEnabled": false,
      "language": "python",
      "sourceType": "notebook",
      "isGpuEnabled": false
    },
    "colab": {
      "name": "Exercises5ed155fc47",
      "provenance": []
    }
  },
  "nbformat_minor": 0,
  "nbformat": 4,
  "cells": [
    {
      "cell_type": "markdown",
      "source": [
        "# US - Baby Names"
      ],
      "metadata": {
        "id": "pvLQrmIRWv93"
      }
    },
    {
      "cell_type": "markdown",
      "source": [
        "### Introduction:\n",
        "\n",
        "We are going to use a subset of [US Baby Names](https://www.kaggle.com/kaggle/us-baby-names) from Kaggle.  \n",
        "In the file it will be names from 2004 until 2014\n",
        "\n",
        "\n",
        "### Step 1. Import the necessary libraries"
      ],
      "metadata": {
        "id": "S3jyhEegWv97"
      }
    },
    {
      "cell_type": "code",
      "source": [
        "import pandas as pd"
      ],
      "metadata": {
        "jupyter": {
          "outputs_hidden": false
        },
        "id": "--VytyEAWv98"
      },
      "outputs": [],
      "execution_count": null
    },
    {
      "cell_type": "markdown",
      "source": [
        "### Step 2. Import the dataset from this [address](https://raw.githubusercontent.com/guipsamora/pandas_exercises/master/06_Stats/US_Baby_Names/US_Baby_Names_right.csv)."
      ],
      "metadata": {
        "id": "lETCLPKYWv98"
      }
    },
    {
      "cell_type": "code",
      "source": [
        "url = 'https://raw.githubusercontent.com/guipsamora/pandas_exercises/master/06_Stats/US_Baby_Names/US_Baby_Names_right.csv'\n",
        "baby_names = pd.read_csv(url, sep = ',')"
      ],
      "metadata": {
        "id": "p2Jdq49LW9jj"
      },
      "execution_count": null,
      "outputs": []
    },
    {
      "cell_type": "markdown",
      "source": [
        "### Step 3. Assign it to a variable called baby_names."
      ],
      "metadata": {
        "id": "xmlv6EbYWv99"
      }
    },
    {
      "cell_type": "code",
      "source": [
        "print(baby_names)"
      ],
      "metadata": {
        "jupyter": {
          "outputs_hidden": false
        },
        "id": "HHlBJFXMWv99"
      },
      "outputs": [],
      "execution_count": null
    },
    {
      "cell_type": "markdown",
      "source": [
        "### Step 4. See the first 10 entries"
      ],
      "metadata": {
        "id": "YEpZi-qOWv99"
      }
    },
    {
      "cell_type": "code",
      "source": [
        "print(baby_names.head(10))"
      ],
      "metadata": {
        "jupyter": {
          "outputs_hidden": false
        },
        "id": "z4mPgSxOWv9-"
      },
      "outputs": [],
      "execution_count": null
    },
    {
      "cell_type": "markdown",
      "source": [
        "### Step 5. Delete the column 'Unnamed: 0' and 'Id'"
      ],
      "metadata": {
        "id": "v-eGk61yWv9_"
      }
    },
    {
      "cell_type": "code",
      "source": [
        "del baby_names['Unnamed: 0']\n",
        "del baby_names['Id']\n",
        "print(baby_names)"
      ],
      "metadata": {
        "jupyter": {
          "outputs_hidden": false
        },
        "id": "E_qmMbVuWv9_"
      },
      "outputs": [],
      "execution_count": null
    },
    {
      "cell_type": "markdown",
      "source": [
        "### Step 6. Is there more male or female names in the dataset?"
      ],
      "metadata": {
        "id": "_TT31YJuWv-A"
      }
    },
    {
      "cell_type": "code",
      "source": [
        "print(baby_names['Gender'].value_counts())"
      ],
      "metadata": {
        "jupyter": {
          "outputs_hidden": false
        },
        "id": "ikNv-GduWv-A"
      },
      "outputs": [],
      "execution_count": null
    },
    {
      "cell_type": "markdown",
      "source": [
        "### Step 7. Group the dataset by name and assign to names"
      ],
      "metadata": {
        "id": "TYtj2qodWv-A"
      }
    },
    {
      "cell_type": "code",
      "source": [
        "print(baby_names.groupby('Name').sum())"
      ],
      "metadata": {
        "jupyter": {
          "outputs_hidden": false
        },
        "id": "AjiBAQIQWv-A"
      },
      "outputs": [],
      "execution_count": null
    },
    {
      "cell_type": "markdown",
      "source": [
        "### Step 8. How many different names exist in the dataset?"
      ],
      "metadata": {
        "id": "-2noPzB7Wv-A"
      }
    },
    {
      "cell_type": "code",
      "source": [
        "print(baby_names['Name'].nunique())"
      ],
      "metadata": {
        "jupyter": {
          "outputs_hidden": false
        },
        "id": "-4-m5GBnWv-B"
      },
      "outputs": [],
      "execution_count": null
    },
    {
      "cell_type": "markdown",
      "source": [
        "### Step 9. What is the name with most occurrences?"
      ],
      "metadata": {
        "id": "iGVF2MDvWv-B"
      }
    },
    {
      "cell_type": "code",
      "source": [
        "occurrences = baby_names.groupby('Name').sum()\n",
        "print(occurrences[occurrences['Count'] == occurrences['Count'].max()])"
      ],
      "metadata": {
        "jupyter": {
          "outputs_hidden": false
        },
        "id": "nA2Y_BmpWv-B"
      },
      "outputs": [],
      "execution_count": null
    },
    {
      "cell_type": "markdown",
      "source": [
        "### Step 10. How many different names have the least occurrences?"
      ],
      "metadata": {
        "id": "sTp2A2D9Wv-B"
      }
    },
    {
      "cell_type": "code",
      "source": [
        "least_occurrences = occurrences[occurrences['Count'] == occurrences['Count'].min()]\n",
        "print(len(least_occurrences))"
      ],
      "metadata": {
        "jupyter": {
          "outputs_hidden": false
        },
        "id": "SiMUALd-Wv-B"
      },
      "outputs": [],
      "execution_count": null
    },
    {
      "cell_type": "markdown",
      "source": [
        "### Step 11. What is the median name occurrence?"
      ],
      "metadata": {
        "id": "6dezQUjuWv-B"
      }
    },
    {
      "cell_type": "code",
      "source": [
        "median_occurrences = occurrences[occurrences['Count'] == occurrences['Count'].median()]\n",
        "print(median_occurrences)"
      ],
      "metadata": {
        "jupyter": {
          "outputs_hidden": false
        },
        "id": "Tf821opVWv-C"
      },
      "outputs": [],
      "execution_count": null
    },
    {
      "cell_type": "markdown",
      "source": [
        "### Step 12. What is the standard deviation of names?"
      ],
      "metadata": {
        "id": "XP828lVuWv-C"
      }
    },
    {
      "cell_type": "code",
      "source": [
        "standard_deviation = occurrences['Count'].std()\n",
        "print(standard_deviation)"
      ],
      "metadata": {
        "jupyter": {
          "outputs_hidden": false
        },
        "id": "Prwo-s1oWv-C"
      },
      "outputs": [],
      "execution_count": null
    },
    {
      "cell_type": "markdown",
      "source": [
        "### Step 13. Get a summary with the mean, min, max, std and quartiles."
      ],
      "metadata": {
        "id": "xp0NMa7_Wv-C"
      }
    },
    {
      "cell_type": "code",
      "source": [
        "mean=occurrences['Count'].mean()\n",
        "min=occurrences['Count'].min()\n",
        "max=occurrences['Count'].max()\n",
        "std=occurrences['Count'].std()"
      ],
      "metadata": {
        "jupyter": {
          "outputs_hidden": false
        },
        "id": "lNi3OTQYWv-C"
      },
      "outputs": [],
      "execution_count": null
    }
  ]
}