{
  "metadata": {
    "kernelspec": {
      "display_name": "Python 2",
      "language": "python",
      "name": "python2"
    },
    "language_info": {
      "codemirror_mode": {
        "name": "ipython",
        "version": 2
      },
      "file_extension": ".py",
      "mimetype": "text/x-python",
      "name": "python",
      "nbconvert_exporter": "python",
      "pygments_lexer": "ipython2",
      "version": "2.7.11"
    },
    "kaggle": {
      "accelerator": "none",
      "dataSources": [],
      "isInternetEnabled": false,
      "language": "python",
      "sourceType": "notebook",
      "isGpuEnabled": false
    },
    "colab": {
      "name": "Exercisesc5c21e4bca",
      "provenance": []
    }
  },
  "nbformat_minor": 0,
  "nbformat": 4,
  "cells": [
    {
      "cell_type": "markdown",
      "source": [
        "# Iris"
      ],
      "metadata": {
        "id": "o7XQ0Fl8bHuf"
      }
    },
    {
      "cell_type": "markdown",
      "source": [
        "### Introduction:\n",
        "\n",
        "This exercise may seem a little bit strange, but keep doing it.\n",
        "\n",
        "### Step 1. Import the necessary libraries"
      ],
      "metadata": {
        "id": "syON_HN5bHuh"
      }
    },
    {
      "cell_type": "code",
      "source": [
        "import pandas as pd\n",
        "import numpy as np"
      ],
      "metadata": {
        "jupyter": {
          "outputs_hidden": false
        },
        "id": "-w7dpMT0bHui"
      },
      "outputs": [],
      "execution_count": null
    },
    {
      "cell_type": "markdown",
      "source": [
        "### Step 2. Import the dataset from this [address](https://archive.ics.uci.edu/ml/machine-learning-databases/iris/iris.data)."
      ],
      "metadata": {
        "id": "W8I1o7yEbHuj"
      }
    },
    {
      "cell_type": "markdown",
      "source": [
        "### Step 3. Assign it to a variable called iris"
      ],
      "metadata": {
        "id": "41voUTKCbHuj"
      }
    },
    {
      "cell_type": "code",
      "source": [
        "url = 'https://archive.ics.uci.edu/ml/machine-learning-databases/iris/iris.data'\n",
        "iris = pd.read_csv(url)\n",
        "\n",
        "iris.head()"
      ],
      "metadata": {
        "jupyter": {
          "outputs_hidden": false
        },
        "id": "7sUfbm5lbHuk"
      },
      "outputs": [],
      "execution_count": null
    },
    {
      "cell_type": "markdown",
      "source": [
        "### Step 4. Create columns for the dataset"
      ],
      "metadata": {
        "id": "6iQ2Em1HbHuk"
      }
    },
    {
      "cell_type": "code",
      "source": [
        "# 1. sepal_length (in cm)\n",
        "# 2. sepal_width (in cm)\n",
        "# 3. petal_length (in cm)\n",
        "# 4. petal_width (in cm)\n",
        "# 5. class\n",
        "\n",
        "iris.columns = ['sepal_length','sepal_width', 'petal_length', 'petal_width', 'class']\n",
        "iris.head()"
      ],
      "metadata": {
        "jupyter": {
          "outputs_hidden": false
        },
        "id": "8e7QgjrVbHul"
      },
      "outputs": [],
      "execution_count": null
    },
    {
      "cell_type": "markdown",
      "source": [
        "### Step 5.  Is there any missing value in the dataframe?"
      ],
      "metadata": {
        "id": "FZrWV-_1bHum"
      }
    },
    {
      "cell_type": "code",
      "source": [
        "pd.isnull(iris).sum()"
      ],
      "metadata": {
        "jupyter": {
          "outputs_hidden": false
        },
        "id": "UKkISM2MbHum"
      },
      "outputs": [],
      "execution_count": null
    },
    {
      "cell_type": "markdown",
      "source": [
        "### Step 6.  Lets set the values of the rows 10 to 29 of the column 'petal_length' to NaN"
      ],
      "metadata": {
        "id": "gUQAeEtRbHun"
      }
    },
    {
      "cell_type": "code",
      "source": [
        "iris.iloc[10:30,2:3] = np.nan\n",
        "iris.head(20)"
      ],
      "metadata": {
        "jupyter": {
          "outputs_hidden": false
        },
        "id": "uEMjgMujbHun"
      },
      "outputs": [],
      "execution_count": null
    },
    {
      "cell_type": "markdown",
      "source": [
        "### Step 7. Good, now lets substitute the NaN values to 1.0"
      ],
      "metadata": {
        "id": "Ab6Oma55bHun"
      }
    },
    {
      "cell_type": "code",
      "source": [
        "iris.petal_length.fillna(1, inplace = True)\n",
        "iris"
      ],
      "metadata": {
        "jupyter": {
          "outputs_hidden": false
        },
        "id": "mmvfi3zYbHun"
      },
      "outputs": [],
      "execution_count": null
    },
    {
      "cell_type": "markdown",
      "source": [
        "### Step 8. Now let's delete the column class"
      ],
      "metadata": {
        "id": "3MIYlpSDbHun"
      }
    },
    {
      "cell_type": "code",
      "source": [
        "del iris['class']\n",
        "iris.head()"
      ],
      "metadata": {
        "jupyter": {
          "outputs_hidden": false
        },
        "id": "dxvpjFdQbHuo"
      },
      "outputs": [],
      "execution_count": null
    },
    {
      "cell_type": "markdown",
      "source": [
        "### Step 9.  Set the first 3 rows as NaN"
      ],
      "metadata": {
        "id": "a-SyJqSPbHuo"
      }
    },
    {
      "cell_type": "code",
      "source": [
        "iris.iloc[0:3 ,:] = np.nan\n",
        "iris.head()"
      ],
      "metadata": {
        "jupyter": {
          "outputs_hidden": false
        },
        "id": "c2YBkUnzbHuo"
      },
      "outputs": [],
      "execution_count": null
    },
    {
      "cell_type": "markdown",
      "source": [
        "### Step 10.  Delete the rows that have NaN"
      ],
      "metadata": {
        "id": "6y5mLkxrbHuo"
      }
    },
    {
      "cell_type": "code",
      "source": [
        "iris = iris.dropna(how='any')\n",
        "iris.head()"
      ],
      "metadata": {
        "jupyter": {
          "outputs_hidden": false
        },
        "id": "sr9UbXp0bHup"
      },
      "outputs": [],
      "execution_count": null
    },
    {
      "cell_type": "markdown",
      "source": [
        "### Step 11. Reset the index so it begins with 0 again"
      ],
      "metadata": {
        "id": "2nB0l5XWbHup"
      }
    },
    {
      "cell_type": "code",
      "source": [
        "iris = iris.reset_index(drop = True)\n",
        "iris.head()"
      ],
      "metadata": {
        "jupyter": {
          "outputs_hidden": false
        },
        "id": "zGz5RszNbHup"
      },
      "outputs": [],
      "execution_count": null
    },
    {
      "cell_type": "markdown",
      "source": [
        "### BONUS: Create your own question and answer it."
      ],
      "metadata": {
        "id": "f7lEqMnObHup"
      }
    },
    {
      "cell_type": "code",
      "source": [],
      "metadata": {
        "collapsed": true,
        "jupyter": {
          "outputs_hidden": true
        },
        "id": "3nrzRHZTbHup"
      },
      "outputs": [],
      "execution_count": null
    }
  ]
}