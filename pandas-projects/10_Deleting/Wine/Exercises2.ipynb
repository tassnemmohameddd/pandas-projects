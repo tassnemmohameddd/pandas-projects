{
  "metadata": {
    "kernelspec": {
      "display_name": "Python [default]",
      "language": "python",
      "name": "python2"
    },
    "language_info": {
      "codemirror_mode": {
        "name": "ipython",
        "version": 2
      },
      "file_extension": ".py",
      "mimetype": "text/x-python",
      "name": "python",
      "nbconvert_exporter": "python",
      "pygments_lexer": "ipython2",
      "version": "2.7.12"
    },
    "kaggle": {
      "accelerator": "none",
      "dataSources": [],
      "isInternetEnabled": false,
      "language": "python",
      "sourceType": "notebook",
      "isGpuEnabled": false
    },
    "colab": {
      "name": "Exercises3ecbe7d296",
      "provenance": []
    }
  },
  "nbformat_minor": 0,
  "nbformat": 4,
  "cells": [
    {
      "cell_type": "markdown",
      "source": [
        "# Wine"
      ],
      "metadata": {
        "id": "VyADEBoCbnZV"
      }
    },
    {
      "cell_type": "markdown",
      "source": [
        "### Introduction:\n",
        "\n",
        "This exercise is a adaptation from the UCI Wine dataset.\n",
        "The only pupose is to practice deleting data with pandas.\n",
        "\n",
        "### Step 1. Import the necessary libraries"
      ],
      "metadata": {
        "id": "g2txmEcnbnZW"
      }
    },
    {
      "cell_type": "code",
      "source": [
        "import pandas as pd\n",
        "import numpy as np"
      ],
      "metadata": {
        "jupyter": {
          "outputs_hidden": false
        },
        "id": "BsTHvZVbbnZX"
      },
      "outputs": [],
      "execution_count": null
    },
    {
      "cell_type": "markdown",
      "source": [
        "### Step 2. Import the dataset from this [address](https://archive.ics.uci.edu/ml/machine-learning-databases/wine/wine.data)."
      ],
      "metadata": {
        "id": "yxgiN3uCbnZX"
      }
    },
    {
      "cell_type": "markdown",
      "source": [
        "### Step 3. Assign it to a variable called wine"
      ],
      "metadata": {
        "id": "pSkt3iCvbnZY"
      }
    },
    {
      "cell_type": "code",
      "source": [
        "url = 'https://archive.ics.uci.edu/ml/machine-learning-databases/wine/wine.data'\n",
        "wine = pd.read_csv(url)\n",
        "\n",
        "wine.head()"
      ],
      "metadata": {
        "jupyter": {
          "outputs_hidden": false
        },
        "id": "cbbxoCg9bnZY"
      },
      "outputs": [],
      "execution_count": null
    },
    {
      "cell_type": "markdown",
      "source": [
        "### Step 4. Delete the first, fourth, seventh, nineth, eleventh, thirteenth and fourteenth columns"
      ],
      "metadata": {
        "id": "lLdT1SAdbnZY"
      }
    },
    {
      "cell_type": "code",
      "source": [
        "wine = wine.drop(wine.columns[[0,3,6,8,11,12,13]], axis = 1)\n",
        "\n",
        "wine.head()"
      ],
      "metadata": {
        "jupyter": {
          "outputs_hidden": false
        },
        "id": "xU1Agd52bnZY"
      },
      "outputs": [],
      "execution_count": null
    },
    {
      "cell_type": "markdown",
      "source": [
        "### Step 5. Assign the columns as below:\n",
        "\n",
        "The attributes are (donated by Riccardo Leardi, riclea '@' anchem.unige.it):  \n",
        "1) alcohol  \n",
        "2) malic_acid  \n",
        "3) alcalinity_of_ash  \n",
        "4) magnesium  \n",
        "5) flavanoids  \n",
        "6) proanthocyanins  \n",
        "7) hue"
      ],
      "metadata": {
        "id": "p83UquvabnZZ"
      }
    },
    {
      "cell_type": "code",
      "source": [
        "wine.columns = ['alcohol', 'malic_acid', 'alcalinity_of_ash', 'magnesium', 'flavanoids', 'proanthocyanins', 'hue']\n",
        "wine.head()"
      ],
      "metadata": {
        "jupyter": {
          "outputs_hidden": false
        },
        "id": "tvNJ0UDTbnZZ"
      },
      "outputs": [],
      "execution_count": null
    },
    {
      "cell_type": "markdown",
      "source": [
        "### Step 6. Set the values of the first 3 rows from alcohol as NaN"
      ],
      "metadata": {
        "id": "uHgl502FbnZZ"
      }
    },
    {
      "cell_type": "code",
      "source": [
        "wine.iloc[0:3, 0] = np.nan\n",
        "wine.head()"
      ],
      "metadata": {
        "jupyter": {
          "outputs_hidden": false
        },
        "id": "ErT4E55ebnZa"
      },
      "outputs": [],
      "execution_count": null
    },
    {
      "cell_type": "markdown",
      "source": [
        "### Step 7. Now set the value of the rows 3 and 4 of magnesium as NaN"
      ],
      "metadata": {
        "id": "ztvWk0HbbnZa"
      }
    },
    {
      "cell_type": "code",
      "source": [
        "wine.iloc[2:4, 3] = np.nan\n",
        "wine.head()"
      ],
      "metadata": {
        "jupyter": {
          "outputs_hidden": false
        },
        "id": "GOdGMiMWbnZa"
      },
      "outputs": [],
      "execution_count": null
    },
    {
      "cell_type": "markdown",
      "source": [
        "### Step 8. Fill the value of NaN with the number 10 in alcohol and 100 in magnesium"
      ],
      "metadata": {
        "id": "fV8qLYDQbnZa"
      }
    },
    {
      "cell_type": "code",
      "source": [
        "wine.alcohol.fillna(10, inplace = True)\n",
        "\n",
        "wine.magnesium.fillna(100, inplace = True)\n",
        "\n",
        "wine.head()"
      ],
      "metadata": {
        "jupyter": {
          "outputs_hidden": false
        },
        "id": "PihAXPDlbnZa"
      },
      "outputs": [],
      "execution_count": null
    },
    {
      "cell_type": "markdown",
      "source": [
        "### Step 9. Count the number of missing values"
      ],
      "metadata": {
        "id": "zWsehCHUbnZa"
      }
    },
    {
      "cell_type": "code",
      "source": [
        "wine.isnull().sum()"
      ],
      "metadata": {
        "jupyter": {
          "outputs_hidden": false
        },
        "id": "R70d6TZ9bnZa"
      },
      "outputs": [],
      "execution_count": null
    },
    {
      "cell_type": "markdown",
      "source": [
        "### Step 10.  Create an array of 10 random numbers up until 10"
      ],
      "metadata": {
        "id": "q7Xjml-KbnZb"
      }
    },
    {
      "cell_type": "code",
      "source": [
        "random = np.random.randint(10, size = 10)\n",
        "random"
      ],
      "metadata": {
        "jupyter": {
          "outputs_hidden": false
        },
        "id": "ksQ1Lr9MbnZb"
      },
      "outputs": [],
      "execution_count": null
    },
    {
      "cell_type": "markdown",
      "source": [
        "### Step 11.  Use random numbers you generated as an index and assign NaN value to each of cell."
      ],
      "metadata": {
        "id": "uD0yvlpcbnZb"
      }
    },
    {
      "cell_type": "code",
      "source": [
        "wine.alcohol[random] = np.nan\n",
        "wine.head(10)"
      ],
      "metadata": {
        "jupyter": {
          "outputs_hidden": false
        },
        "id": "4GIiHYhfbnZb"
      },
      "outputs": [],
      "execution_count": null
    },
    {
      "cell_type": "markdown",
      "source": [
        "### Step 12.  How many missing values do we have?"
      ],
      "metadata": {
        "id": "YjjXTVlsbnZb"
      }
    },
    {
      "cell_type": "code",
      "source": [
        "wine.isnull().sum()"
      ],
      "metadata": {
        "jupyter": {
          "outputs_hidden": false
        },
        "id": "9VxttN-5bnZb"
      },
      "outputs": [],
      "execution_count": null
    },
    {
      "cell_type": "markdown",
      "source": [
        "### Step 13. Delete the rows that contain missing values"
      ],
      "metadata": {
        "id": "XqoX1F56bnZb"
      }
    },
    {
      "cell_type": "code",
      "source": [
        "wine = wine.dropna(axis = 0, how = \"any\")\n",
        "wine.head()"
      ],
      "metadata": {
        "jupyter": {
          "outputs_hidden": false
        },
        "id": "wEu6M4WqbnZb"
      },
      "outputs": [],
      "execution_count": null
    },
    {
      "cell_type": "markdown",
      "source": [
        "### Step 14. Print only the non-null values in alcohol"
      ],
      "metadata": {
        "id": "ZXJ-DChubnZb"
      }
    },
    {
      "cell_type": "code",
      "source": [
        "mask = wine.alcohol.notnull()\n",
        "mask"
      ],
      "metadata": {
        "jupyter": {
          "outputs_hidden": false
        },
        "id": "7xSGONjpbnZc"
      },
      "outputs": [],
      "execution_count": null
    },
    {
      "cell_type": "code",
      "source": [
        "wine.alcohol[mask]"
      ],
      "metadata": {
        "collapsed": true,
        "jupyter": {
          "outputs_hidden": true
        },
        "id": "NhOiSp7DbnZc"
      },
      "outputs": [],
      "execution_count": null
    },
    {
      "cell_type": "markdown",
      "source": [
        "### Step 15.  Reset the index, so it starts with 0 again"
      ],
      "metadata": {
        "id": "PVoKnyBgbnZc"
      }
    },
    {
      "cell_type": "code",
      "source": [
        "wine = wine.reset_index(drop = True)\n",
        "wine.head()"
      ],
      "metadata": {
        "jupyter": {
          "outputs_hidden": false
        },
        "id": "gkQPn5X8bnZc"
      },
      "outputs": [],
      "execution_count": null
    },
    {
      "cell_type": "markdown",
      "source": [
        "### BONUS: Create your own question and answer it."
      ],
      "metadata": {
        "id": "fH02qO5CbnZc"
      }
    },
    {
      "cell_type": "code",
      "source": [],
      "metadata": {
        "collapsed": true,
        "jupyter": {
          "outputs_hidden": true
        },
        "id": "LHF7RTtPbnZc"
      },
      "outputs": [],
      "execution_count": null
    }
  ]
}