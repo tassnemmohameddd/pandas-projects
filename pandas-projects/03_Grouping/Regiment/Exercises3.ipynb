{
  "cells": [
    {
      "cell_type": "markdown",
      "metadata": {
        "id": "ZwEWo09-PQyJ"
      },
      "source": [
        "# Regiment"
      ]
    },
    {
      "cell_type": "markdown",
      "metadata": {
        "id": "ToL6N6KlPQyL"
      },
      "source": [
        "### Introduction:\n",
        "\n",
        "Special thanks to: http://chrisalbon.com/ for sharing the dataset and materials.\n",
        "\n",
        "### Step 1. Import the necessary libraries"
      ]
    },
    {
      "cell_type": "code",
      "execution_count": 1,
      "metadata": {
        "id": "B1iJO1vCPQyM"
      },
      "outputs": [],
      "source": [
        "import pandas as pd"
      ]
    },
    {
      "cell_type": "markdown",
      "metadata": {
        "id": "DglfKNYwPQyM"
      },
      "source": [
        "### Step 2. Create the DataFrame with the following values:"
      ]
    },
    {
      "cell_type": "code",
      "execution_count": 2,
      "metadata": {
        "collapsed": true,
        "id": "ls8KNtzxPQyM"
      },
      "outputs": [],
      "source": [
        "raw_data = {'regiment': ['Nighthawks', 'Nighthawks', 'Nighthawks', 'Nighthawks', 'Dragoons', 'Dragoons', 'Dragoons', 'Dragoons', 'Scouts', 'Scouts', 'Scouts', 'Scouts'],\n",
        "        'company': ['1st', '1st', '2nd', '2nd', '1st', '1st', '2nd', '2nd','1st', '1st', '2nd', '2nd'],\n",
        "        'name': ['Miller', 'Jacobson', 'Ali', 'Milner', 'Cooze', 'Jacon', 'Ryaner', 'Sone', 'Sloan', 'Piger', 'Riani', 'Ali'],\n",
        "        'preTestScore': [4, 24, 31, 2, 3, 4, 24, 31, 2, 3, 2, 3],\n",
        "        'postTestScore': [25, 94, 57, 62, 70, 25, 94, 57, 62, 70, 62, 70]}"
      ]
    },
    {
      "cell_type": "markdown",
      "metadata": {
        "id": "YhoY95GhPQyN"
      },
      "source": [
        "### Step 3. Assign it to a variable called regiment.\n",
        "#### Don't forget to name each column"
      ]
    },
    {
      "cell_type": "code",
      "execution_count": 3,
      "metadata": {
        "id": "wZDcVEtZPQyN",
        "outputId": "e17cd46b-d7b7-4972-a253-aa263c55841a",
        "colab": {
          "base_uri": "https://localhost:8080/"
        }
      },
      "outputs": [
        {
          "output_type": "stream",
          "name": "stdout",
          "text": [
            "     regiment company      name  preTestScore  postTestScore\n",
            "0  Nighthawks     1st    Miller             4             25\n",
            "1  Nighthawks     1st  Jacobson            24             94\n",
            "2  Nighthawks     2nd       Ali            31             57\n",
            "3  Nighthawks     2nd    Milner             2             62\n",
            "4    Dragoons     1st     Cooze             3             70\n"
          ]
        }
      ],
      "source": [
        "\n",
        "raw_data = {\n",
        "    'regiment': ['Nighthawks', 'Nighthawks', 'Nighthawks', 'Nighthawks',\n",
        "                 'Dragoons', 'Dragoons', 'Dragoons', 'Dragoons',\n",
        "                 'Scouts', 'Scouts', 'Scouts', 'Scouts'],\n",
        "    'company': ['1st', '1st', '2nd', '2nd',\n",
        "                '1st', '1st', '2nd', '2nd',\n",
        "                '1st', '1st', '2nd', '2nd'],\n",
        "    'name': ['Miller', 'Jacobson', 'Ali', 'Milner',\n",
        "             'Cooze', 'Jacon', 'Ryaner', 'Sone',\n",
        "             'Sloan', 'Piger', 'Riani', 'Ali'],\n",
        "    'preTestScore': [4, 24, 31, 2, 3, 4, 24, 31, 2, 3, 2, 3],\n",
        "    'postTestScore': [25, 94, 57, 62, 70, 25, 94, 57, 62, 70, 62, 70]\n",
        "}\n",
        "\n",
        "columns = ['regiment', 'company', 'name', 'preTestScore', 'postTestScore']\n",
        "regiment = pd.DataFrame(raw_data, columns=columns)\n",
        "print(regiment.head())\n"
      ]
    },
    {
      "cell_type": "markdown",
      "metadata": {
        "id": "p-swtlH2PQyN"
      },
      "source": [
        "### Step 4. What is the mean preTestScore from the regiment Nighthawks?  "
      ]
    },
    {
      "cell_type": "code",
      "execution_count": 4,
      "metadata": {
        "id": "8vC59rWZPQyN",
        "outputId": "9346e137-70e7-4618-994f-7e107beaa962",
        "colab": {
          "base_uri": "https://localhost:8080/"
        }
      },
      "outputs": [
        {
          "output_type": "stream",
          "name": "stdout",
          "text": [
            "The mean preTestScore for the Nighthawks regiment is: 15.25\n"
          ]
        }
      ],
      "source": [
        "nighthawks = regiment[regiment['regiment'] == 'Nighthawks']\n",
        "mean_score = nighthawks['preTestScore'].mean()\n",
        "\n",
        "print(f\"The mean preTestScore for the Nighthawks regiment is: {mean_score}\")\n"
      ]
    },
    {
      "cell_type": "markdown",
      "metadata": {
        "id": "H1nTB_RcPQyO"
      },
      "source": [
        "### Step 5. Present general statistics by company"
      ]
    },
    {
      "cell_type": "code",
      "execution_count": 5,
      "metadata": {
        "id": "APP7cz2XPQyO",
        "outputId": "c94f97fa-703c-4750-89ea-320e507f3bef",
        "colab": {
          "base_uri": "https://localhost:8080/"
        }
      },
      "outputs": [
        {
          "output_type": "stream",
          "name": "stdout",
          "text": [
            "        preTestScore                                                      \\\n",
            "               count       mean        std  min   25%   50%    75%   max   \n",
            "company                                                                    \n",
            "1st              6.0   6.666667   8.524475  2.0  3.00   3.5   4.00  24.0   \n",
            "2nd              6.0  15.500000  14.652645  2.0  2.25  13.5  29.25  31.0   \n",
            "\n",
            "        postTestScore                                                       \n",
            "                count       mean        std   min    25%   50%   75%   max  \n",
            "company                                                                     \n",
            "1st               6.0  57.666667  27.485754  25.0  34.25  66.0  70.0  94.0  \n",
            "2nd               6.0  67.000000  14.057027  57.0  58.25  62.0  68.0  94.0  \n"
          ]
        }
      ],
      "source": [
        "general_stats = regiment.groupby('company').describe()\n",
        "print(general_stats)"
      ]
    },
    {
      "cell_type": "markdown",
      "metadata": {
        "id": "V_MzG8J0PQyO"
      },
      "source": [
        "### Step 6. What is the mean of each company's preTestScore?"
      ]
    },
    {
      "cell_type": "code",
      "execution_count": 6,
      "metadata": {
        "id": "uqH12f8CPQyO",
        "outputId": "47c8f965-63fc-4704-b578-c8c2a13fa13d",
        "colab": {
          "base_uri": "https://localhost:8080/"
        }
      },
      "outputs": [
        {
          "output_type": "stream",
          "name": "stdout",
          "text": [
            "company\n",
            "1st     6.666667\n",
            "2nd    15.500000\n",
            "Name: preTestScore, dtype: float64\n"
          ]
        }
      ],
      "source": [
        "mean_preTestScore = regiment.groupby('company')['preTestScore'].mean()\n",
        "print(mean_preTestScore)"
      ]
    },
    {
      "cell_type": "markdown",
      "metadata": {
        "id": "-Zu7Du2HPQyO"
      },
      "source": [
        "### Step 7. Present the mean preTestScores grouped by regiment and company"
      ]
    },
    {
      "cell_type": "code",
      "execution_count": 7,
      "metadata": {
        "id": "pvDIKgHrPQyP",
        "outputId": "2e9ba1f9-f054-471f-f9a0-107d7fc2c556",
        "colab": {
          "base_uri": "https://localhost:8080/"
        }
      },
      "outputs": [
        {
          "output_type": "stream",
          "name": "stdout",
          "text": [
            "regiment    company\n",
            "Dragoons    1st         3.5\n",
            "            2nd        27.5\n",
            "Nighthawks  1st        14.0\n",
            "            2nd        16.5\n",
            "Scouts      1st         2.5\n",
            "            2nd         2.5\n",
            "Name: preTestScore, dtype: float64\n"
          ]
        }
      ],
      "source": [
        "mean_preTestScore = regiment.groupby(['regiment', 'company'])['preTestScore'].mean()\n",
        "print(mean_preTestScore)"
      ]
    },
    {
      "cell_type": "markdown",
      "metadata": {
        "id": "Z_EC5uUBPQyP"
      },
      "source": [
        "### Step 8. Present the mean preTestScores grouped by regiment and company without heirarchical indexing"
      ]
    },
    {
      "cell_type": "code",
      "execution_count": 8,
      "metadata": {
        "id": "GPk-4EtqPQyP",
        "outputId": "a8af9d65-4f9f-4439-a0f1-cf771e910750",
        "colab": {
          "base_uri": "https://localhost:8080/"
        }
      },
      "outputs": [
        {
          "output_type": "stream",
          "name": "stdout",
          "text": [
            "company      1st   2nd\n",
            "regiment              \n",
            "Dragoons     3.5  27.5\n",
            "Nighthawks  14.0  16.5\n",
            "Scouts       2.5   2.5\n"
          ]
        }
      ],
      "source": [
        "mean_preTestScore = regiment.groupby(['regiment', 'company'])['preTestScore'].mean().unstack()\n",
        "print(mean_preTestScore)"
      ]
    },
    {
      "cell_type": "markdown",
      "metadata": {
        "id": "mFdD0FdQPQyP"
      },
      "source": [
        "### Step 9. Group the entire dataframe by regiment and company"
      ]
    },
    {
      "cell_type": "code",
      "execution_count": 10,
      "metadata": {
        "id": "EDokQ4qVPQyP",
        "outputId": "e08f6972-9a7a-46f5-8f57-58f2c2673e43",
        "colab": {
          "base_uri": "https://localhost:8080/"
        }
      },
      "outputs": [
        {
          "output_type": "stream",
          "name": "stdout",
          "text": [
            "                      name  preTestScore  postTestScore\n",
            "regiment   company                                     \n",
            "Dragoons   1st       Cooze             3             70\n",
            "           2nd      Ryaner            24             94\n",
            "Nighthawks 1st      Miller             4             25\n",
            "           2nd         Ali            31             57\n",
            "Scouts     1st       Sloan             2             62\n",
            "           2nd       Riani             2             62\n"
          ]
        }
      ],
      "source": [
        "grouped = regiment.groupby(['regiment', 'company'])\n",
        "print(grouped.first())\n"
      ]
    },
    {
      "cell_type": "markdown",
      "metadata": {
        "id": "COgi0XtMPQyP"
      },
      "source": [
        "### Step 10. What is the number of observations in each regiment and company"
      ]
    },
    {
      "cell_type": "code",
      "execution_count": 11,
      "metadata": {
        "id": "7zFQtS-rPQyP",
        "outputId": "8cca462b-c134-491d-95ad-2197438a1861",
        "colab": {
          "base_uri": "https://localhost:8080/"
        }
      },
      "outputs": [
        {
          "output_type": "stream",
          "name": "stdout",
          "text": [
            "regiment    company\n",
            "Dragoons    1st        2\n",
            "            2nd        2\n",
            "Nighthawks  1st        2\n",
            "            2nd        2\n",
            "Scouts      1st        2\n",
            "            2nd        2\n",
            "dtype: int64\n"
          ]
        }
      ],
      "source": [
        "print(regiment.groupby(['regiment', 'company']).size())"
      ]
    },
    {
      "cell_type": "markdown",
      "metadata": {
        "id": "VXE7sOBBPQyQ"
      },
      "source": [
        "### Step 11. Iterate over a group and print the name and the whole data from the regiment"
      ]
    },
    {
      "cell_type": "code",
      "execution_count": 12,
      "metadata": {
        "id": "AIjQtDdKPQyQ",
        "outputId": "106d1501-5d16-40ad-cad6-58db50cce367",
        "colab": {
          "base_uri": "https://localhost:8080/"
        }
      },
      "outputs": [
        {
          "output_type": "stream",
          "name": "stdout",
          "text": [
            "\n",
            "Group: ('Dragoons', '1st')\n",
            "   regiment company   name  preTestScore  postTestScore\n",
            "4  Dragoons     1st  Cooze             3             70\n",
            "5  Dragoons     1st  Jacon             4             25\n",
            "\n",
            "Group: ('Dragoons', '2nd')\n",
            "   regiment company    name  preTestScore  postTestScore\n",
            "6  Dragoons     2nd  Ryaner            24             94\n",
            "7  Dragoons     2nd    Sone            31             57\n",
            "\n",
            "Group: ('Nighthawks', '1st')\n",
            "     regiment company      name  preTestScore  postTestScore\n",
            "0  Nighthawks     1st    Miller             4             25\n",
            "1  Nighthawks     1st  Jacobson            24             94\n",
            "\n",
            "Group: ('Nighthawks', '2nd')\n",
            "     regiment company    name  preTestScore  postTestScore\n",
            "2  Nighthawks     2nd     Ali            31             57\n",
            "3  Nighthawks     2nd  Milner             2             62\n",
            "\n",
            "Group: ('Scouts', '1st')\n",
            "  regiment company   name  preTestScore  postTestScore\n",
            "8   Scouts     1st  Sloan             2             62\n",
            "9   Scouts     1st  Piger             3             70\n",
            "\n",
            "Group: ('Scouts', '2nd')\n",
            "   regiment company   name  preTestScore  postTestScore\n",
            "10   Scouts     2nd  Riani             2             62\n",
            "11   Scouts     2nd    Ali             3             70\n"
          ]
        }
      ],
      "source": [
        "grouped = regiment.groupby(['regiment', 'company'])\n",
        "for name, group in grouped:\n",
        "    print(f\"\\nGroup: {name}\")\n",
        "    print(group)\n"
      ]
    }
  ],
  "metadata": {
    "kernelspec": {
      "display_name": "Python 2",
      "language": "python",
      "name": "python2"
    },
    "language_info": {
      "codemirror_mode": {
        "name": "ipython",
        "version": 2
      },
      "file_extension": ".py",
      "mimetype": "text/x-python",
      "name": "python",
      "nbconvert_exporter": "python",
      "pygments_lexer": "ipython2",
      "version": "2.7.11"
    },
    "colab": {
      "name": "Exercises36fb8280fa",
      "provenance": []
    }
  },
  "nbformat": 4,
  "nbformat_minor": 0
}