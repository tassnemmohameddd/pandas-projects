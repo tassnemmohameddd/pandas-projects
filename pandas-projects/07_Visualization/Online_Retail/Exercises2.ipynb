{
  "cells": [
    {
      "cell_type": "markdown",
      "metadata": {
        "id": "fkR-YHeoT_QQ"
      },
      "source": [
        "# Online Retails Purchase"
      ]
    },
    {
      "cell_type": "markdown",
      "metadata": {
        "id": "ogfen8VJT_QS"
      },
      "source": [
        "### Introduction:\n",
        "\n",
        "\n",
        "\n",
        "### Step 1. Import the necessary libraries"
      ]
    },
    {
      "cell_type": "code",
      "execution_count": null,
      "metadata": {
        "id": "ydWLAmvwT_QU"
      },
      "outputs": [],
      "source": [
        "import pandas as pd\n",
        "import numpy as np\n",
        "import matplotlib.pyplot as plt\n",
        "import seaborn as sns\n",
        "%matplotlib inline\n",
        "sns.set(style=\"ticks\")"
      ]
    },
    {
      "cell_type": "markdown",
      "metadata": {
        "id": "I0FGOnE8T_QV"
      },
      "source": [
        "### Step 2. Import the dataset from this [address](https://raw.githubusercontent.com/guipsamora/pandas_exercises/master/07_Visualization/Online_Retail/Online_Retail.csv)."
      ]
    },
    {
      "cell_type": "markdown",
      "metadata": {
        "id": "GsLrKyDfT_QV"
      },
      "source": [
        "### Step 3. Assign it to a variable called online_rt\n",
        "Note: if you receive a utf-8 decode error, set `encoding = 'latin1'` in `pd.read_csv()`."
      ]
    },
    {
      "cell_type": "code",
      "execution_count": null,
      "metadata": {
        "id": "-fGU3OsyT_QV"
      },
      "outputs": [],
      "source": [
        "url = 'https://raw.githubusercontent.com/guipsamora/pandas_exercises/master/07_Visualization/Online_Retail/Online_Retail.csv'\n",
        "\n",
        "online_rt = pd.read_csv(path, encoding = 'latin1')\n",
        "\n",
        "online_rt.head()"
      ]
    },
    {
      "cell_type": "markdown",
      "metadata": {
        "id": "2SbgXtrZT_QW"
      },
      "source": [
        "### Step 4. Create a histogram with the 10 countries that have the most 'Quantity' ordered except UK"
      ]
    },
    {
      "cell_type": "code",
      "execution_count": null,
      "metadata": {
        "id": "z8yAHCqrT_QW"
      },
      "outputs": [],
      "source": [
        "countries = online_rt.groupby('Country').sum()\n",
        "countries = countries.sort_values(by = 'Quantity',ascending = False)[1:11]\n",
        "\n",
        "countries['Quantity'].plot(kind='bar')\n",
        "\n",
        "plt.xlabel('Countries')\n",
        "plt.ylabel('Quantity')\n",
        "plt.title('10 Countries with most orders')\n",
        "plt.show()"
      ]
    },
    {
      "cell_type": "markdown",
      "metadata": {
        "id": "UakhavToT_QW"
      },
      "source": [
        "### Step 5.  Exclude negative Quantity entries"
      ]
    },
    {
      "cell_type": "code",
      "execution_count": null,
      "metadata": {
        "id": "eNa5T8v8T_QX"
      },
      "outputs": [],
      "source": [
        "online_rt = online_rt[online_rt.Quantity > 0]\n",
        "online_rt.head()"
      ]
    },
    {
      "cell_type": "markdown",
      "metadata": {
        "id": "6lDCn3tRT_QX"
      },
      "source": [
        "### Step 6. Create a scatterplot with the Quantity per UnitPrice by CustomerID for the top 3 Countries (except UK)"
      ]
    },
    {
      "cell_type": "code",
      "execution_count": null,
      "metadata": {
        "id": "J93xJABRT_QX"
      },
      "outputs": [],
      "source": [
        "customers = online_rt.groupby(['CustomerID','Country']).sum()\n",
        "customers = customers[customers.UnitPrice > 0]\n",
        "customers['Country'] = customers.index.get_level_values(1)\n",
        "\n",
        "top_countries =  ['Netherlands', 'EIRE', 'Germany']\n",
        "\n",
        "customers = customers[customers['Country'].isin(top_countries)]\n",
        "g = sns.FacetGrid(customers, col=\"Country\")\n",
        "\n",
        "g.map(plt.scatter, \"Quantity\", \"UnitPrice\", alpha=1)\n",
        "g.add_legend()"
      ]
    },
    {
      "cell_type": "markdown",
      "metadata": {
        "id": "7sUzPSRnT_QX"
      },
      "source": [
        "### Step 7. Investigate why the previous results look so uninformative.\n",
        "\n",
        "This section might seem a bit tedious to go through. But I've thought of it as some kind of a simulation of problems one might encounter when dealing with data and other people. Besides there is a prize at the end (i.e. Section 8).\n",
        "\n",
        "(But feel free to jump right ahead into Section 8 if you want; it doesn't require that you finish this section.)\n",
        "\n",
        "#### Step 7.1 Look at the first line of code in Step 6. And try to figure out if it leads to any kind of problem.\n",
        "##### Step 7.1.1 Display the first few rows of that DataFrame."
      ]
    },
    {
      "cell_type": "code",
      "execution_count": null,
      "metadata": {
        "id": "iqnM0HQAT_QY"
      },
      "outputs": [],
      "source": [
        "customers = online_rt.groupby(['CustomerID','Country']).sum().head()\n",
        "customers"
      ]
    },
    {
      "cell_type": "markdown",
      "metadata": {
        "id": "zgevC0_BT_QY"
      },
      "source": [
        "##### Step 7.1.2 Think about what that piece of code does and display the dtype of `UnitPrice`"
      ]
    },
    {
      "cell_type": "code",
      "execution_count": null,
      "metadata": {
        "id": "k2tQyhnmT_QY"
      },
      "outputs": [],
      "source": [
        "customers.UnitPrice.dtype"
      ]
    },
    {
      "cell_type": "markdown",
      "metadata": {
        "id": "JGoZOF98T_QY"
      },
      "source": [
        "##### Step 7.1.3 Pull data from `online_rt`for `CustomerID`s 12346.0 and 12347.0."
      ]
    },
    {
      "cell_type": "code",
      "execution_count": null,
      "metadata": {
        "id": "1dNSudO0T_QY"
      },
      "outputs": [],
      "source": [
        "display(online_rt[online_rt.CustomerID == 12347.0].\n",
        "        sort_values(by='UnitPrice', ascending = False).head())\n",
        "display(online_rt[online_rt.CustomerID == 12346.0].\n",
        "        sort_values(by='UnitPrice', ascending = False).head())"
      ]
    },
    {
      "cell_type": "markdown",
      "metadata": {
        "id": "D38f63GuT_QY"
      },
      "source": [
        "#### Step 7.2 Reinterpreting the initial problem.\n",
        "\n",
        "To reiterate the question that we were dealing with:  \n",
        "\"Create a scatterplot with the Quantity per UnitPrice by CustomerID for the top 3 Countries\"\n",
        "\n",
        "The question is open to a set of different interpretations.\n",
        "We need to disambiguate.\n",
        "\n",
        "We could do a single plot by looking at all the data from the top 3 countries.\n",
        "Or we could do one plot per country. To keep things consistent with the rest of the exercise,\n",
        "let's stick to the latter oprion. So that's settled.\n",
        "\n",
        "But \"top 3 countries\" with respect to what? Two answers suggest themselves:\n",
        "Total sales volume (i.e. total quantity sold) or total sales (i.e. revenue).\n",
        "This exercise goes for sales volume, so let's stick to that.\n",
        "\n",
        "##### Step 7.2.1 Find out the top 3 countries in terms of sales volume."
      ]
    },
    {
      "cell_type": "code",
      "execution_count": null,
      "metadata": {
        "id": "8g2b_vRrT_QZ"
      },
      "outputs": [],
      "source": [
        "sales_volume = online_rt.groupby('Country').Quantity.sum().sort_values(ascending=False)\n",
        "top3 = sales_volume.index[1:4]\n",
        "top3"
      ]
    },
    {
      "cell_type": "markdown",
      "metadata": {
        "id": "0hvEr_yUT_QZ"
      },
      "source": [
        "##### Step 7.2.2\n",
        "\n",
        "Now that we have the top 3 countries, we can focus on the rest of the problem:  \n",
        "\"Quantity per UnitPrice by CustomerID\".  \n",
        "We need to unpack that.\n",
        "\n",
        "\"by CustomerID\" part is easy. That means we're going to be plotting one dot per CustomerID's on our plot. In other words, we're going to be grouping by CustomerID.\n",
        "\n",
        "\"Quantity per UnitPrice\" is trickier. Here's what we know:  \n",
        "*One axis will represent a Quantity assigned to a given customer. This is easy; we can just plot the total  Quantity for each customer.  \n",
        "*The other axis will represent a UnitPrice assigned to a given customer. Remember a single customer can have any number of orders with different prices, so summing up prices isn't quite helpful. Besides it's not quite clear what we mean when we say \"unit price per customer\"; it sounds like price of the customer! A reasonable alternative is that we assign each customer the average amount each has paid per item. So let's settle that question in that manner.\n",
        "\n",
        "#### Step 7.3 Modify, select and plot data\n",
        "##### Step 7.3.1 Add a column to online_rt called `Revenue` calculate the revenue (Quantity * UnitPrice) from each sale.\n",
        "We will use this later to figure out an average price per customer."
      ]
    },
    {
      "cell_type": "code",
      "execution_count": null,
      "metadata": {
        "id": "AVhrPyF7T_QZ"
      },
      "outputs": [],
      "source": [
        "online_rt['Revenue'] = online_rt.Quantity * online_rt.UnitPrice\n",
        "online_rt.head()"
      ]
    },
    {
      "cell_type": "markdown",
      "metadata": {
        "id": "cNDleua9T_QZ"
      },
      "source": [
        "##### Step 7.3.2 Group by `CustomerID` and `Country` and find out the average price (`AvgPrice`) each customer spends per unit."
      ]
    },
    {
      "cell_type": "code",
      "execution_count": null,
      "metadata": {
        "id": "vOBWBzbtT_Qa"
      },
      "outputs": [],
      "source": [
        "grouped = online_rt[online_rt.Country.isin(top3)].groupby(['CustomerID','Country'])\n",
        "\n",
        "plottable = grouped['Quantity','Revenue'].agg('sum')\n",
        "plottable['AvgPrice'] = plottable.Revenue / plottable.Quantity\n",
        "plottable['Country'] = plottable.index.get_level_values(1)\n",
        "plottable.head()"
      ]
    },
    {
      "cell_type": "markdown",
      "metadata": {
        "id": "mJQ4bdcbT_Qa"
      },
      "source": [
        "##### Step 7.3.3 Plot"
      ]
    },
    {
      "cell_type": "code",
      "execution_count": null,
      "metadata": {
        "id": "l6MOCU1yT_Qa"
      },
      "outputs": [],
      "source": [
        "g = sns.FacetGrid(plottable, col=\"Country\")\n",
        "g.map(plt.scatter, \"Quantity\", \"AvgPrice\", alpha=1)\n",
        "g.add_legend();"
      ]
    },
    {
      "cell_type": "markdown",
      "metadata": {
        "id": "bSWuOXtYT_Qa"
      },
      "source": [
        "#### Step 7.4 What to do now?\n",
        "We aren't much better-off than what we started with. The data are still extremely scattered around and don't seem quite informative.\n",
        "\n",
        "But we shouldn't despair!\n",
        "There are two things to realize:\n",
        "1) The data seem to be skewed towaards the axes (e.g. we don't have any values where Quantity = 50000 and AvgPrice = 5). So that might suggest a trend.\n",
        "2) We have more data! We've only been looking at the data from 3 different countries and they are plotted on different graphs.\n",
        "\n",
        "So: we should plot the data regardless of `Country` and hopefully see a less scattered graph.\n",
        "\n",
        "##### Step 7.4.1 Plot the data for each `CustomerID` on a single graph"
      ]
    },
    {
      "cell_type": "code",
      "execution_count": null,
      "metadata": {
        "id": "UOqOFZNhT_Qa"
      },
      "outputs": [],
      "source": [
        "grouped = online_rt.groupby(['CustomerID'])\n",
        "plottable = grouped['Quantity','Revenue'].agg('sum')\n",
        "plottable['AvgPrice'] = plottable.Revenue / plottable.Quantity\n",
        "plt.scatter(plottable.Quantity, plottable.AvgPrice)\n",
        "plt.plot()\n"
      ]
    },
    {
      "cell_type": "markdown",
      "metadata": {
        "id": "b82oiONmT_Qb"
      },
      "source": [
        "##### Step 7.4.2 Zoom in so we can see that curve more clearly"
      ]
    },
    {
      "cell_type": "code",
      "execution_count": null,
      "metadata": {
        "id": "mEqr7xbhT_Qb"
      },
      "outputs": [],
      "source": [
        "grouped = online_rt.groupby(['CustomerID','Country'])\n",
        "plottable = grouped.agg({'Quantity': 'sum',\n",
        "                         'Revenue': 'sum'})\n",
        "plottable['AvgPrice'] = plottable.Revenue / plottable.Quantity\n",
        "\n",
        "\n",
        "plt.scatter(plottable.Quantity, plottable.AvgPrice)\n",
        "plt.xlim(-40,2000)\n",
        "plt.ylim(-1,80)\n",
        "\n",
        "plt.plot()\n"
      ]
    },
    {
      "cell_type": "markdown",
      "metadata": {
        "id": "jEKrJL91T_Qb"
      },
      "source": [
        "### 8. Plot a line chart showing revenue (y) per UnitPrice (x).\n",
        "\n",
        "Did Step 7 give us any insights about the data? Sure! As average price increases, the quantity ordered decreses.  But that's hardly surprising. It would be surprising if that wasn't the case!\n",
        "\n",
        "Nevertheless the rate of drop in quantity is so drastic, it makes me wonder how our revenue changes with respect to item price. It would not be that surprising if it didn't change that much. But it would be interesting to know whether most of our revenue comes from expensive or inexpensive items, and how that relation looks like.\n",
        "\n",
        "That is what we are going to do now.\n",
        "\n",
        "#### 8.1 Group `UnitPrice` by intervals of 1 for prices [0,50), and sum `Quantity` and `Revenue`."
      ]
    },
    {
      "cell_type": "code",
      "execution_count": null,
      "metadata": {
        "id": "PTIL0mZXT_Qb"
      },
      "outputs": [],
      "source": [
        "price_start = 0\n",
        "price_end = 50\n",
        "price_interval = 1\n",
        "buckets = np.arange(price_start,price_end,price_interval)\n",
        "revenue_per_price = online_rt.groupby(pd.cut(online_rt.UnitPrice, buckets)).Revenue.sum()\n",
        "revenue_per_price.head()"
      ]
    },
    {
      "cell_type": "markdown",
      "metadata": {
        "id": "V0xJZaSwT_Qb"
      },
      "source": [
        "#### 8.3 Plot."
      ]
    },
    {
      "cell_type": "code",
      "execution_count": null,
      "metadata": {
        "id": "vCVVXG2UT_Qc"
      },
      "outputs": [],
      "source": [
        "revenue_per_price.plot()\n",
        "plt.xlabel('Unit Price (in intervals of '+str(price_interval)+')')\n",
        "plt.ylabel('Revenue')\n",
        "plt.show()"
      ]
    },
    {
      "cell_type": "markdown",
      "metadata": {
        "id": "jY_LphXtT_Qc"
      },
      "source": [
        "#### 8.4 Make it look nicer.\n",
        "x-axis needs values.  \n",
        "y-axis isn't that easy to read; show in terms of millions."
      ]
    },
    {
      "cell_type": "code",
      "execution_count": null,
      "metadata": {
        "id": "reiQjGi2T_Qc"
      },
      "outputs": [],
      "source": [
        "revenue_per_price.plot()\n",
        "plt.xlabel('Unit Price (in buckets of '+str(price_interval)+')')\n",
        "plt.ylabel('Revenue')\n",
        "plt.xticks(np.arange(price_start,price_end,3),\n",
        "           np.arange(price_start,price_end,3))\n",
        "plt.yticks([0, 500000, 1000000, 1500000, 2000000, 2500000],\n",
        "           ['0', '$0.5M', '$1M', '$1.5M', '$2M', '$2.5M'])\n",
        "plt.show()"
      ]
    },
    {
      "cell_type": "markdown",
      "metadata": {
        "id": "znyD2Mh9T_Qd"
      },
      "source": [
        "### BONUS: Create your own question and answer it."
      ]
    },
    {
      "cell_type": "code",
      "execution_count": null,
      "metadata": {
        "id": "13Acf9jCT_Qd"
      },
      "outputs": [],
      "source": []
    }
  ],
  "metadata": {
    "kernelspec": {
      "display_name": "Python 3",
      "language": "python",
      "name": "python3"
    },
    "language_info": {
      "codemirror_mode": {
        "name": "ipython",
        "version": 3
      },
      "file_extension": ".py",
      "mimetype": "text/x-python",
      "name": "python",
      "nbconvert_exporter": "python",
      "pygments_lexer": "ipython3",
      "version": "3.7.0"
    },
    "colab": {
      "provenance": []
    }
  },
  "nbformat": 4,
  "nbformat_minor": 0
}